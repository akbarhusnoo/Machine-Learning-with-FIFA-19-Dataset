{
  "nbformat": 4,
  "nbformat_minor": 0,
  "metadata": {
    "colab": {
      "name": "p1t2.ipynb",
      "provenance": [],
      "collapsed_sections": [],
      "toc_visible": true
    },
    "kernelspec": {
      "display_name": "Python 3",
      "language": "python",
      "name": "python3"
    },
    "language_info": {
      "codemirror_mode": {
        "name": "ipython",
        "version": 3
      },
      "file_extension": ".py",
      "mimetype": "text/x-python",
      "name": "python",
      "nbconvert_exporter": "python",
      "pygments_lexer": "ipython3",
      "version": "3.7.7"
    }
  },
  "cells": [
    {
      "cell_type": "markdown",
      "metadata": {
        "colab_type": "text",
        "id": "5PD5Pz3u-6vb"
      },
      "source": [
        "# SIT742: Modern Data Science \n",
        "**(2020 Assessment Task 02: Exploration FIFA2019 Data)**\n",
        "\n",
        "---\n",
        "- Materials in this module include resources collected from various open-source online repositories.\n",
        "- You are free to use, change and distribute this package.\n",
        "\n",
        "Prepared by **SIT742 Teaching Team**\n",
        "\n",
        "\n",
        "---\n",
        "\n",
        "<div class=\"alert alert-block alert-info\">\n",
        "Enter your information in the following cell. Please make sure you fill your Student ID and Name correctly.  \n",
        "</div>\n",
        "\n",
        "**Student Group Information:** Please fill your information below\n",
        "\n",
        "- Names with Student IDs:  Muhammad Akbar Husnoo [219306444],\n",
        "Keerthana Muhunthan [219499597], Alec Farrell [220003003]\n",
        "- Group ID:  SIT742T2EGroup 15\n",
        "- Emails: mahusnoo@deakin.edu.au, kmuhunthan@deakin.edu.au, arfarell@deakin.edu.au\n",
        "\n",
        "---"
      ]
    },
    {
      "cell_type": "markdown",
      "metadata": {
        "colab_type": "text",
        "id": "2ljGko6N-6vf"
      },
      "source": [
        "## Overview\n",
        "\n",
        "Recently, [Kaggle](https://www.kaggle.com) (a data science community and competition platform) released one data set '[FIFA19](https://www.kaggle.com/karangadiya/fifa19)‘, which consists of 18K+ FIFA 19 player with around 90 attributes extracted from FIFA database. In this assessment task, we make it available as the data set:\n",
        "- [2020T2Data.csv](https://github.com/tulip-lab/sit742/raw/master/Assessment/2020/data/2020T2Data.csv): The data set for this assignment task.\n",
        "\n",
        "In this task, you will need to **use Spark packages**\n",
        "\n",
        "- **Part 1**: Exploratory Data Analysis\n",
        "\n",
        "- **Part 2**: Clustering Analysis, and identify the position profiles of each cluster\n",
        "\n",
        "- **Part 3**: Classification Analysis, and evaluate the performance of different algorithms using cross validation;\n",
        "\n",
        "\n",
        "You will be required to complete the coding to answer the questions with a neat and clean format, and your commenting and adherence to code standards will be considered when marking. Further information on Python standards, please visit https://www.python.org/dev/peps/pep-0008/ \n",
        "\n",
        "\n",
        "**Note**: You are not necessary to stick to the partial code provided, and you can write your own complete code to implement the required tasks. But you should provide sufficient comments.\n",
        "\n"
      ]
    },
    {
      "cell_type": "markdown",
      "metadata": {
        "colab_type": "text",
        "id": "G1vjEdvs-6vh"
      },
      "source": [
        "## Part 1 - What we could know about FIFA 2019 Players? \n",
        "\n",
        "### 1.0. Libraries and data files\n",
        "<a id=\"Load data\"></a>\n",
        "***\n",
        "\n",
        "Import the necessary Spark environment, and load the data set [2020T2Data.csv](https://github.com/tulip-lab/sit742/raw/master/Assessment/2020/data/2020T2Data.csv).\n"
      ]
    },
    {
      "cell_type": "code",
      "metadata": {
        "colab_type": "code",
        "id": "auVRAscVRVrI",
        "outputId": "72d7a212-2468-4d14-a7df-a65f7820ec6e",
        "colab": {
          "base_uri": "https://localhost:8080/",
          "height": 190
        }
      },
      "source": [
        "!pip install wget\n",
        "!apt-get install openjdk-8-jdk-headless -qq > /dev/null\n",
        "!wget -q https://archive.apache.org/dist/spark/spark-2.4.0/spark-2.4.0-bin-hadoop2.7.tgz\n",
        "!tar xf spark-2.4.0-bin-hadoop2.7.tgz\n",
        "!pip install -q findspark\n",
        "import os,wget\n",
        "os.environ[\"JAVA_HOME\"] = \"/usr/lib/jvm/java-8-openjdk-amd64\"\n",
        "os.environ[\"SPARK_HOME\"] = \"/content/spark-2.4.0-bin-hadoop2.7\"\n",
        "\n",
        "\n",
        "link_to_data = 'https://github.com/tulip-lab/sit742/raw/master/Assessment/2020/data/2020T2Data.csv'\n",
        "DataSet = wget.download(link_to_data)"
      ],
      "execution_count": 0,
      "outputs": [
        {
          "output_type": "stream",
          "text": [
            "Collecting wget\n",
            "  Downloading https://files.pythonhosted.org/packages/47/6a/62e288da7bcda82b935ff0c6cfe542970f04e29c756b0e147251b2fb251f/wget-3.2.zip\n",
            "Building wheels for collected packages: wget\n",
            "  Building wheel for wget (setup.py) ... \u001b[?25l\u001b[?25hdone\n",
            "  Created wheel for wget: filename=wget-3.2-cp36-none-any.whl size=9682 sha256=332320b575202b6973f0d154627d21461591bcf2f62fd69b5c64699d13ac694b\n",
            "  Stored in directory: /root/.cache/pip/wheels/40/15/30/7d8f7cea2902b4db79e3fea550d7d7b85ecb27ef992b618f3f\n",
            "Successfully built wget\n",
            "Installing collected packages: wget\n",
            "Successfully installed wget-3.2\n"
          ],
          "name": "stdout"
        }
      ]
    },
    {
      "cell_type": "code",
      "metadata": {
        "colab_type": "code",
        "id": "3Gxm5nc6Rz-a",
        "colab": {}
      },
      "source": [
        "import findspark\n",
        "import logging #import added for log messages integration of error handling\n",
        "findspark.init()\n",
        "from pyspark.sql import SparkSession"
      ],
      "execution_count": 0,
      "outputs": []
    },
    {
      "cell_type": "markdown",
      "metadata": {
        "colab_type": "text",
        "id": "dSPbqoEGR30v"
      },
      "source": [
        "### 1.1 Data Exploration\n",
        "\n",
        "*Remind: You must only use **PySpark** to complete the following data processing and model building. Otherwise, you lose all marks.*\n",
        "\n",
        "<a id=\"loading\"></a>\n",
        "***\n",
        "\n",
        "<div class=\"alert alert-block alert-info\">\n",
        "\n",
        "**Code**: \n",
        "    import the csv file as a Spark dataframe and name it as df\n",
        "\n",
        "</div>\n",
        "\n"
      ]
    },
    {
      "cell_type": "code",
      "metadata": {
        "colab_type": "code",
        "id": "uuGY6lgWR7B3",
        "outputId": "641307c3-3566-44dc-a6a8-dffac9d5d6c5",
        "colab": {
          "base_uri": "https://localhost:8080/",
          "height": 547
        }
      },
      "source": [
        "#Creating a Spark Session of name SIT742T2\n",
        "spark = SparkSession.builder.appName('SIT742T2').getOrCreate()\n",
        "\n",
        "#try-except block for error handling to prevent abnormal termination of code\n",
        "try:\n",
        "  #read and upload csv file as well as converting file into Spark dataframe\n",
        "  df = spark.read.load(\"2020T2Data.csv\", format=\"csv\", inferSchema=\"true\", header=\"true\")\n",
        "  #check and print df variabe type\n",
        "  print('df is of type = ' + str(type(df)))\n",
        "  #display df\n",
        "  print('\\nSpark Dataframe is as shown below:\\n')\n",
        "  df.show()\n",
        "except Exception as e:\n",
        "  logging.error(e)"
      ],
      "execution_count": 0,
      "outputs": [
        {
          "output_type": "stream",
          "text": [
            "df is of type = <class 'pyspark.sql.dataframe.DataFrame'>\n",
            "\n",
            "Spark Dataframe is as shown below:\n",
            "\n",
            "+------+-----------------+---+--------------------+-----------+--------------------+-------+---------+-------------------+--------------------+--------+-------+-------+--------------+------------------------+---------+-----------+--------------+----------+---------+--------+-------------+------------+-----------+--------------------+------+----------+------+----------+--------+---------+---------------+------------+-------+---------+-----+----------+-----------+-----------+------------+-----------+-------+---------+-------+---------+-------+-------+--------+---------+----------+-------------+-----------+------+---------+---------+-------+--------------+-------------+--------+----------+---------+-------------+----------+-----------------+\n",
            "|    ID|             Name|Age|               Photo|Nationality|                Flag|Overall|Potential|               Club|           Club Logo|value(M)|wage(K)|Special|Preferred Foot|International Reputation|Weak Foot|Skill Moves|     Work Rate| Body Type|Real Face|Position|Jersey Number|      Joined|Loaned From|Contract Valid Until|Height|Height(CM)|Weight|Weight(KG)|Crossing|Finishing|HeadingAccuracy|ShortPassing|Volleys|Dribbling|Curve|FKAccuracy|LongPassing|BallControl|Acceleration|SprintSpeed|Agility|Reactions|Balance|ShotPower|Jumping|Stamina|Strength|LongShots|Aggression|Interceptions|Positioning|Vision|Penalties|Composure|Marking|StandingTackle|SlidingTackle|GKDiving|GKHandling|GKKicking|GKPositioning|GKReflexes|Release Clause(M)|\n",
            "+------+-----------------+---+--------------------+-----------+--------------------+-------+---------+-------------------+--------------------+--------+-------+-------+--------------+------------------------+---------+-----------+--------------+----------+---------+--------+-------------+------------+-----------+--------------------+------+----------+------+----------+--------+---------+---------------+------------+-------+---------+-----+----------+-----------+-----------+------------+-----------+-------+---------+-------+---------+-------+-------+--------+---------+----------+-------------+-----------+------+---------+---------+-------+--------------+-------------+--------+----------+---------+-------------+----------+-----------------+\n",
            "|158023|         L. Messi| 31|https://cdn.sofif...|  Argentina|https://cdn.sofif...|     94|       94|       FC Barcelona|https://cdn.sofif...|   110.5|    565|   2202|          Left|                       5|        4|          4|Medium/ Medium|     Messi|      Yes|      RF|           10| Jul 1, 2004|       null|                2021|   5.7|   173.736| 159.0| 72.121128|      84|       95|             70|          90|     86|       97|   93|        94|         87|         96|          91|         86|     91|       95|     95|       85|     68|     72|      59|       94|        48|           22|         94|    94|       75|       96|     33|            28|           26|       6|        11|       15|           14|         8|            226.5|\n",
            "| 20801|Cristiano Ronaldo| 33|https://cdn.sofif...|   Portugal|https://cdn.sofif...|     94|       94|           Juventus|https://cdn.sofif...|      77|    405|   2228|         Right|                       5|        4|          5|     High/ Low|C. Ronaldo|      Yes|      ST|            7|Jul 10, 2018|       null|                2022|   6.2|   188.976| 183.0| 83.007336|      84|       94|             89|          81|     87|       88|   81|        76|         77|         94|          89|         91|     87|       96|     70|       95|     95|     88|      79|       93|        63|           29|         95|    82|       85|       95|     28|            31|           23|       7|        11|       15|           14|        11|            127.1|\n",
            "|190871|        Neymar Jr| 26|https://cdn.sofif...|     Brazil|https://cdn.sofif...|     92|       93|Paris Saint-Germain|https://cdn.sofif...|   118.5|    290|   2143|         Right|                       5|        5|          5|  High/ Medium|    Neymar|      Yes|      LW|           10| Aug 3, 2017|       null|                2022|   5.9|   179.832| 150.0|   68.0388|      79|       87|             62|          84|     84|       96|   88|        87|         78|         95|          94|         90|     96|       94|     84|       80|     61|     81|      49|       82|        56|           36|         89|    87|       81|       94|     27|            24|           33|       9|         9|       15|           15|        11|            228.1|\n",
            "|193080|           De Gea| 27|https://cdn.sofif...|      Spain|https://cdn.sofif...|     91|       93|  Manchester United|https://cdn.sofif...|      72|    260|   1471|         Right|                       4|        3|          1|Medium/ Medium|      Lean|      Yes|      GK|            1| Jul 1, 2011|       null|                2020|   6.4|   195.072| 168.0| 76.203456|      17|       13|             21|          50|     13|       18|   21|        19|         51|         42|          57|         58|     60|       90|     43|       31|     67|     43|      64|       12|        38|           30|         12|    68|       40|       68|     15|            21|           13|      90|        85|       87|           88|        94|            138.6|\n",
            "|192985|     K. De Bruyne| 27|https://cdn.sofif...|    Belgium|https://cdn.sofif...|     91|       92|    Manchester City|https://cdn.sofif...|     102|    355|   2281|         Right|                       4|        5|          4|    High/ High|    Normal|      Yes|     RCM|            7|Aug 30, 2015|       null|                2023|  5.11|  155.7528| 154.0| 69.853168|      93|       82|             55|          92|     82|       86|   85|        83|         91|         91|          78|         76|     79|       91|     77|       91|     63|     90|      75|       91|        76|           61|         87|    94|       79|       88|     68|            58|           51|      15|        13|        5|           10|        13|            196.4|\n",
            "|183277|        E. Hazard| 27|https://cdn.sofif...|    Belgium|https://cdn.sofif...|     91|       91|            Chelsea|https://cdn.sofif...|      93|    340|   2142|         Right|                       4|        4|          4|  High/ Medium|    Normal|      Yes|      LF|           10| Jul 1, 2012|       null|                2020|   5.8|   176.784| 163.0| 73.935496|      81|       84|             61|          89|     80|       95|   83|        79|         83|         94|          94|         88|     95|       90|     94|       82|     56|     83|      66|       80|        54|           41|         87|    89|       86|       91|     34|            27|           22|      11|        12|        6|            8|         8|            172.1|\n",
            "|177003|        L. Modri?| 32|https://cdn.sofif...|    Croatia|https://cdn.sofif...|     91|       91|        Real Madrid|https://cdn.sofif...|      67|    420|   2280|         Right|                       4|        4|          4|    High/ High|      Lean|      Yes|     RCM|           10| Aug 1, 2012|       null|                2020|   5.8|   176.784| 146.0| 66.224432|      86|       72|             55|          93|     76|       90|   85|        78|         88|         93|          80|         72|     93|       90|     94|       79|     68|     89|      58|       82|        62|           83|         79|    92|       82|       84|     60|            76|           73|      13|         9|        7|           14|         9|            137.4|\n",
            "|176580|       L. Su��rez| 31|https://cdn.sofif...|    Uruguay|https://cdn.sofif...|     91|       91|       FC Barcelona|https://cdn.sofif...|      80|    455|   2346|         Right|                       5|        4|          3|  High/ Medium|    Normal|      Yes|      RS|            9|Jul 11, 2014|       null|                2021|   6.0|    182.88| 190.0|  86.18248|      77|       93|             77|          82|     88|       87|   86|        84|         64|         90|          86|         75|     82|       92|     83|       86|     69|     90|      83|       85|        87|           41|         92|    84|       85|       85|     62|            45|           38|      27|        25|       31|           33|        37|              164|\n",
            "|155862|     Sergio Ramos| 32|https://cdn.sofif...|      Spain|https://cdn.sofif...|     91|       91|        Real Madrid|https://cdn.sofif...|      51|    380|   2201|         Right|                       4|        3|          3|  High/ Medium|    Normal|      Yes|     RCB|           15| Aug 1, 2005|       null|                2020|   6.0|    182.88| 181.0| 82.100152|      66|       60|             91|          78|     66|       63|   74|        72|         77|         84|          76|         75|     78|       85|     66|       79|     93|     84|      83|       59|        88|           90|         60|    63|       75|       82|     87|            92|           91|      11|         8|        9|            7|        11|            104.6|\n",
            "|200389|         J. Oblak| 25|https://cdn.sofif...|   Slovenia|https://cdn.sofif...|     90|       93|   Atl��tico Madrid|https://cdn.sofif...|      68|     94|   1331|         Right|                       3|        3|          1|Medium/ Medium|    Normal|      Yes|      GK|            1|Jul 16, 2014|       null|                2021|   6.2|   188.976| 192.0| 87.089664|      13|       11|             15|          29|     13|       12|   13|        14|         26|         16|          43|         60|     67|       86|     49|       22|     76|     41|      78|       12|        34|           19|         11|    70|       11|       70|     27|            12|           18|      86|        92|       78|           88|        89|            144.5|\n",
            "|188545|   R. Lewandowski| 29|https://cdn.sofif...|     Poland|https://cdn.sofif...|     90|       90| FC Bayern M��nchen|https://cdn.sofif...|      77|    205|   2152|         Right|                       4|        4|          4|  High/ Medium|    Normal|      Yes|      ST|            9| Jul 1, 2014|       null|                2021|   6.0|    182.88| 176.0| 79.832192|      62|       91|             85|          83|     89|       85|   77|        86|         65|         89|          77|         78|     78|       90|     78|       88|     84|     78|      84|       84|        80|           39|         91|    77|       88|       86|     34|            42|           19|      15|         6|       12|            8|        10|            127.1|\n",
            "|182521|         T. Kroos| 28|https://cdn.sofif...|    Germany|https://cdn.sofif...|     90|       90|        Real Madrid|https://cdn.sofif...|    76.5|    355|   2190|         Right|                       4|        5|          3|Medium/ Medium|    Normal|      Yes|     LCM|            8|Jul 17, 2014|       null|                2022|   6.0|    182.88| 168.0| 76.203456|      88|       76|             54|          92|     82|       81|   86|        84|         93|         90|          64|         62|     70|       89|     71|       87|     30|     75|      73|       92|        60|           82|         79|    86|       73|       85|     72|            79|           69|      10|        11|       13|            7|        10|            156.8|\n",
            "|182493|        D. God��n| 32|https://cdn.sofif...|    Uruguay|https://cdn.sofif...|     90|       90|   Atl��tico Madrid|https://cdn.sofif...|      44|    125|   1946|         Right|                       3|        3|          2|  Medium/ High|      Lean|      Yes|      CB|           10| Aug 4, 2010|       null|                2019|   6.2|   188.976| 172.0| 78.017824|      55|       42|             92|          79|     47|       53|   49|        51|         70|         76|          68|         68|     58|       85|     54|       67|     91|     66|      88|       43|        89|           88|         48|    52|       50|       82|     90|            89|           89|       6|         8|       15|            5|        15|             90.2|\n",
            "|168542|      David Silva| 32|https://cdn.sofif...|      Spain|https://cdn.sofif...|     90|       90|    Manchester City|https://cdn.sofif...|      60|    285|   2115|          Left|                       4|        2|          4|  High/ Medium|    Normal|      Yes|     LCM|           21|Jul 14, 2010|       null|                2020|   5.8|   176.784| 148.0| 67.131616|      84|       76|             54|          93|     82|       89|   82|        77|         87|         94|          70|         64|     92|       90|     90|       72|     64|     78|      52|       75|        57|           50|         89|    92|       75|       93|     59|            53|           29|       6|        15|        7|            6|        12|              111|\n",
            "|215914|        N. Kant��| 27|https://cdn.sofif...|     France|https://cdn.sofif...|     89|       90|            Chelsea|https://cdn.sofif...|      63|    225|   2189|         Right|                       3|        3|          2|  Medium/ High|      Lean|      Yes|     LDM|           13|Jul 16, 2016|       null|                2023|   5.6|   170.688| 159.0| 72.121128|      68|       65|             54|          86|     56|       79|   49|        49|         81|         80|          82|         78|     82|       93|     92|       71|     77|     96|      76|       69|        90|           92|         71|    79|       54|       85|     90|            91|           85|      15|        12|       10|            7|        10|            121.3|\n",
            "|211110|        P. Dybala| 24|https://cdn.sofif...|  Argentina|https://cdn.sofif...|     89|       94|           Juventus|https://cdn.sofif...|      89|    205|   2092|          Left|                       3|        3|          4|  High/ Medium|    Normal|      Yes|      LF|           21| Jul 1, 2015|       null|                2022|   5.1|   155.448| 165.0|  74.84268|      82|       84|             68|          87|     88|       92|   88|        88|         75|         92|          87|         83|     91|       86|     85|       82|     75|     80|      65|       88|        48|           32|         84|    87|       86|       84|     23|            20|           20|       5|         4|        4|            5|         8|            153.5|\n",
            "|202126|          H. Kane| 24|https://cdn.sofif...|    England|https://cdn.sofif...|     89|       91|  Tottenham Hotspur|https://cdn.sofif...|    83.5|    205|   2165|         Right|                       3|        4|          3|    High/ High|    Normal|      Yes|      ST|            9| Jul 1, 2010|       null|                2024|   6.2|   188.976| 196.0| 88.904032|      75|       94|             85|          80|     84|       80|   78|        68|         82|         84|          68|         72|     71|       91|     71|       88|     78|     89|      84|       85|        76|           35|         93|    80|       90|       89|     56|            36|           38|       8|        10|       11|           14|        11|            160.7|\n",
            "|194765|     A. Griezmann| 27|https://cdn.sofif...|     France|https://cdn.sofif...|     89|       90|   Atl��tico Madrid|https://cdn.sofif...|      78|    145|   2246|          Left|                       4|        3|          4|    High/ High|      Lean|      Yes|     CAM|            7|Jul 28, 2014|       null|                2023|   5.9|   179.832| 161.0| 73.028312|      82|       90|             84|          83|     87|       88|   84|        78|         76|         90|          88|         85|     90|       90|     80|       80|     90|     83|      62|       82|        69|           35|         91|    83|       79|       87|     59|            47|           48|      14|         8|       14|           13|        14|            165.8|\n",
            "|192448|    M. ter Stegen| 26|https://cdn.sofif...|    Germany|https://cdn.sofif...|     89|       92|       FC Barcelona|https://cdn.sofif...|      58|    240|   1328|         Right|                       3|        4|          1|Medium/ Medium|    Normal|      Yes|      GK|           22| Jul 1, 2014|       null|                2022|   6.2|   188.976| 187.0| 84.821704|      15|       14|             11|          36|     14|       17|   18|        12|         42|         18|          38|         50|     37|       85|     43|       22|     79|     35|      79|       10|        43|           22|         11|    69|       25|       69|     25|            13|           10|      87|        85|       88|           85|        90|            123.3|\n",
            "|192119|      T. Courtois| 26|https://cdn.sofif...|    Belgium|https://cdn.sofif...|     89|       90|        Real Madrid|https://cdn.sofif...|    53.5|    240|   1311|          Left|                       4|        2|          1|Medium/ Medium|  Courtois|      Yes|      GK|            1| Aug 9, 2018|       null|                2024|   6.6|   201.168| 212.0| 96.161504|      14|       14|             13|          33|     12|       13|   19|        20|         35|         23|          46|         52|     61|       84|     45|       36|     68|     38|      70|       17|        23|           15|         13|    44|       27|       66|     20|            18|           16|      85|        91|       72|           86|        88|            113.7|\n",
            "+------+-----------------+---+--------------------+-----------+--------------------+-------+---------+-------------------+--------------------+--------+-------+-------+--------------+------------------------+---------+-----------+--------------+----------+---------+--------+-------------+------------+-----------+--------------------+------+----------+------+----------+--------+---------+---------------+------------+-------+---------+-----+----------+-----------+-----------+------------+-----------+-------+---------+-------+---------+-------+-------+--------+---------+----------+-------------+-----------+------+---------+---------+-------+--------------+-------------+--------+----------+---------+-------------+----------+-----------------+\n",
            "only showing top 20 rows\n",
            "\n"
          ],
          "name": "stdout"
        }
      ]
    },
    {
      "cell_type": "markdown",
      "metadata": {
        "colab_type": "text",
        "id": "2sXsdZ2wbrAg"
      },
      "source": [
        "****\n",
        "\n",
        "\n",
        "<div class=\"alert alert-block alert-info\">\n",
        "\n",
        "**Code**: \n",
        "    Check statistics (min, mean and max) for features on Age, Overall. Then find out the Avg Overall on Position, Avg Overall on Nationality (Sort by avg Overall on Nationality)\n",
        "\n",
        "<div class=\"alert alert-block alert-warning\">\n",
        "    \n",
        "**Report**: \n",
        "    **1.1.A** Please answer questions with proper section title  '1.1.A':     \n",
        "    <ol>\n",
        "        <li> Which are the (min, mean and max) for Age </li>\n",
        "        <li> Which are the (min, mean and max) for Overall </li>\n",
        "        <li> Find the position having highest Avg Overall (sort Avg Overall by position) </li>\n",
        "        <li> Find the top 3 countries with highest Avg Overall (sort Avg Overall by countries)  </li>\n",
        "    </ol>\n",
        "</div>\n",
        "</div>"
      ]
    },
    {
      "cell_type": "code",
      "metadata": {
        "colab_type": "code",
        "id": "mdWVric-aY-h",
        "outputId": "ee1793b5-e2eb-4cde-cfdd-835bb6984d60",
        "colab": {
          "base_uri": "https://localhost:8080/",
          "height": 448
        }
      },
      "source": [
        "from pyspark.sql import functions as F\n",
        "\n",
        "#Descriptive statistics for Age\n",
        "\n",
        "#Create a function that accepts dataframe values and variable name as parameters for computing max, min and median\n",
        "def descriptive_summary_measures(dataframe_values, variable_name):\n",
        "  #try-except block for error handling to prevent abnormal termination of code\n",
        "  try:\n",
        "    print('Descriptive Summary Measures for ' + variable_name +':\\n')\n",
        "    #use aggregation for computation\n",
        "    #computation of min for values\n",
        "    print ('Minimum Value of ' + variable_name + ':')\n",
        "    df.agg(F.min(dataframe_values)).show()\n",
        "    #computation of max for values\n",
        "    print ('Maximum Value of ' + variable_name + ':')\n",
        "    df.agg(F.max(dataframe_values)).show()\n",
        "    #computation of mean for values\n",
        "    print ('Mean Value of ' + variable_name + ':')\n",
        "    df.agg(F.mean(dataframe_values)).show()\n",
        "  \n",
        "  except Exception as e:\n",
        "    logging.error(e)\n",
        "\n",
        "#Call function that accepts age column and variable name age as argument\n",
        "descriptive_summary_measures(df['Age'], 'Age')"
      ],
      "execution_count": 0,
      "outputs": [
        {
          "output_type": "stream",
          "text": [
            "Descriptive Summary Measures for Age:\n",
            "\n",
            "Minimum Value of Age:\n",
            "+--------+\n",
            "|min(Age)|\n",
            "+--------+\n",
            "|      16|\n",
            "+--------+\n",
            "\n",
            "Maximum Value of Age:\n",
            "+--------+\n",
            "|max(Age)|\n",
            "+--------+\n",
            "|      45|\n",
            "+--------+\n",
            "\n",
            "Mean Value of Age:\n",
            "+------------------+\n",
            "|          avg(Age)|\n",
            "+------------------+\n",
            "|25.122205745043114|\n",
            "+------------------+\n",
            "\n"
          ],
          "name": "stdout"
        }
      ]
    },
    {
      "cell_type": "code",
      "metadata": {
        "colab_type": "code",
        "id": "-KMLB3sAfkpK",
        "outputId": "04a2605b-b942-4d2d-83ab-6fd1ae2389e4",
        "colab": {
          "base_uri": "https://localhost:8080/",
          "height": 448
        }
      },
      "source": [
        "#Descriptive statistics for Overall\n",
        "\n",
        "#Function Reuse for computation of Min, Max and Median\n",
        "#Calling function created above with Overall column and variable name Overall as argument\n",
        "descriptive_summary_measures(df['Overall'], 'Overall')"
      ],
      "execution_count": 0,
      "outputs": [
        {
          "output_type": "stream",
          "text": [
            "Descriptive Summary Measures for Overall:\n",
            "\n",
            "Minimum Value of Overall:\n",
            "+------------+\n",
            "|min(Overall)|\n",
            "+------------+\n",
            "|          46|\n",
            "+------------+\n",
            "\n",
            "Maximum Value of Overall:\n",
            "+------------+\n",
            "|max(Overall)|\n",
            "+------------+\n",
            "|          94|\n",
            "+------------+\n",
            "\n",
            "Mean Value of Overall:\n",
            "+-----------------+\n",
            "|     avg(Overall)|\n",
            "+-----------------+\n",
            "|66.23869940132916|\n",
            "+-----------------+\n",
            "\n"
          ],
          "name": "stdout"
        }
      ]
    },
    {
      "cell_type": "code",
      "metadata": {
        "colab_type": "code",
        "id": "S4SMaNc4gX3E",
        "outputId": "2bf2aafe-4868-472c-f566-4fc0a30d33d0",
        "colab": {
          "base_uri": "https://localhost:8080/",
          "height": 186
        }
      },
      "source": [
        "#Position having highest Avg Overall (sort Avg Overall by position)\n",
        "\n",
        "#Create a function that accepts variable names and n as parameters for order by\n",
        "def order_by (target_variable, order_variable, sort_variable, n):\n",
        "  #try-except block for error handling to prevent abnormal termination of code\n",
        "  try:\n",
        "    #order target_variable by order_variable\n",
        "    df.groupBy(target_variable).agg(F.mean(order_variable)).sort(sort_variable, ascending = [0]).show(n)\n",
        "  except Exception as e:\n",
        "    logging.error(e)\n",
        "\n",
        "#Call function that accepts Position column, Overall column and n = 1 as argument\n",
        "print('Position having the highest Average Overall by Position:\\n')\n",
        "order_by('Position', 'Overall', 'avg(Overall)', 1)"
      ],
      "execution_count": 0,
      "outputs": [
        {
          "output_type": "stream",
          "text": [
            "Position having the highest Average Overall by Position:\n",
            "\n",
            "+--------+-----------------+\n",
            "|Position|     avg(Overall)|\n",
            "+--------+-----------------+\n",
            "|      LF|73.86666666666666|\n",
            "+--------+-----------------+\n",
            "only showing top 1 row\n",
            "\n"
          ],
          "name": "stdout"
        }
      ]
    },
    {
      "cell_type": "code",
      "metadata": {
        "colab_type": "code",
        "id": "B6PYyigEjZwI",
        "outputId": "18ba218b-8f92-4ae3-baa2-4abb25c11383",
        "colab": {
          "base_uri": "https://localhost:8080/",
          "height": 223
        }
      },
      "source": [
        "#Top 3 countries with highest Avg Overall\n",
        "\n",
        "#Function Reuse for computation of top 3 countries with highest Avg Overall\n",
        "#Calling function created above with Overall, and Nationality Column and n = 3\n",
        "print('Top 3 Countries with the Highest Average Overall:\\n')\n",
        "order_by('Nationality', 'Overall', 'avg(Overall)', 3)"
      ],
      "execution_count": 0,
      "outputs": [
        {
          "output_type": "stream",
          "text": [
            "Top 3 Countries with the Highest Average Overall:\n",
            "\n",
            "+--------------------+-----------------+\n",
            "|         Nationality|     avg(Overall)|\n",
            "+--------------------+-----------------+\n",
            "|United Arab Emirates|             77.0|\n",
            "|Central African Rep.|73.33333333333333|\n",
            "|              Israel|72.14285714285714|\n",
            "+--------------------+-----------------+\n",
            "only showing top 3 rows\n",
            "\n"
          ],
          "name": "stdout"
        }
      ]
    },
    {
      "cell_type": "markdown",
      "metadata": {
        "colab_type": "text",
        "id": "kT8OESOsmQfv"
      },
      "source": [
        "****\n",
        "\n",
        "<div class=\"alert alert-block alert-info\">\n",
        "\n",
        "**Code**: \n",
        "    You are required to find out the Avg Potentials on Country by Positions, and show the top 10 by ordering your results on Country with alphabet? (Hint: you may need to use pivot)\n",
        "\n",
        "<div class=\"alert alert-block alert-warning\">\n",
        "    \n",
        "**Report**: \n",
        "    **1.1.B** Please answer questions with proper section title  '1.1.B':     \n",
        "    <ol>\n",
        "        <li> Show the results on Avg Potentials on Country by Position with ordering the results on country by alphabet</li>\n",
        "        <li> Find position having highest Avg Potential for Australia </li>\n",
        "    </ol>\n",
        "    \n",
        "</div>\n",
        "</div>"
      ]
    },
    {
      "cell_type": "code",
      "metadata": {
        "colab_type": "code",
        "id": "R1RsTYgImPFD",
        "outputId": "f68a6cb9-a20c-4da2-a3f3-e6836558f3f7",
        "colab": {
          "base_uri": "https://localhost:8080/",
          "height": 68
        }
      },
      "source": [
        "#Average Potentials on Country by Position with ordering the results on country by alphabet (show top 10)\n",
        "\n",
        "#try-except block for error handling to prevent abnormal termination of code\n",
        "try:\n",
        "  #use aggregation and group by to find required values and sort by Nationality in Alphabetical order\n",
        "  #then show first 10 results\n",
        "  print('Average Potentials on Country By Position (Sort Country by alphabetical order): \\n')\n",
        "  df.groupBy('Nationality').pivot('Position').agg(F.mean('Potential')).sort('Nationality').show(10)\n",
        "\n",
        "except Exception as e:\n",
        "  logging.error(e)"
      ],
      "execution_count": 0,
      "outputs": [
        {
          "output_type": "stream",
          "text": [
            "Average Potentials on Country By Position (Sort Country by alphabetical order): \n",
            "\n"
          ],
          "name": "stdout"
        },
        {
          "output_type": "stream",
          "text": [
            "ERROR:root:name 'F' is not defined\n"
          ],
          "name": "stderr"
        }
      ]
    },
    {
      "cell_type": "code",
      "metadata": {
        "id": "BMrFQcZa8Q7U",
        "colab_type": "code",
        "outputId": "8056cf0b-c63c-419d-807f-66cd74707171",
        "colab": {
          "base_uri": "https://localhost:8080/",
          "height": 750
        }
      },
      "source": [
        "#Position having highest Avg Potential for Australia\n",
        "\n",
        "#Filter Dataframe using Nationality Column where value is Australia\n",
        "#Then show Highest Average Potentials (first 10) in Australia\n",
        "#try-except block for error handling to prevent abnormal termination of code\n",
        "try:\n",
        "  #apply filtering\n",
        "  df_australia = df[df['Nationality'] == 'Australia']\n",
        "  print('Dataset containing records of Australia only: \\n')\n",
        "  #show filtered dataset\n",
        "  df_australia.show()\n",
        "  #group by position, then aggregate on mean to show highest Avg Potential for Australia only\n",
        "  print('\\nPosition having the highest Avg Potential for Australia Only:\\n')\n",
        "  df_australia.groupBy('Position').agg(F.mean('Potential')).sort('avg(Potential)', ascending = [0]).show(1)\n",
        "\n",
        "except Exception as e:\n",
        "  logging.error(e)"
      ],
      "execution_count": 0,
      "outputs": [
        {
          "output_type": "stream",
          "text": [
            "Dataset containing records of Australia only: \n",
            "\n",
            "+------+-------------+---+--------------------+-----------+--------------------+-------+---------+--------------------+--------------------+--------+-------+-------+--------------+------------------------+---------+-----------+--------------+---------+---------+--------+-------------+------------+-----------+--------------------+------+----------+------+----------+--------+---------+---------------+------------+-------+---------+-----+----------+-----------+-----------+------------+-----------+-------+---------+-------+---------+-------+-------+--------+---------+----------+-------------+-----------+------+---------+---------+-------+--------------+-------------+--------+----------+---------+-------------+----------+-----------------+\n",
            "|    ID|         Name|Age|               Photo|Nationality|                Flag|Overall|Potential|                Club|           Club Logo|value(M)|wage(K)|Special|Preferred Foot|International Reputation|Weak Foot|Skill Moves|     Work Rate|Body Type|Real Face|Position|Jersey Number|      Joined|Loaned From|Contract Valid Until|Height|Height(CM)|Weight|Weight(KG)|Crossing|Finishing|HeadingAccuracy|ShortPassing|Volleys|Dribbling|Curve|FKAccuracy|LongPassing|BallControl|Acceleration|SprintSpeed|Agility|Reactions|Balance|ShotPower|Jumping|Stamina|Strength|LongShots|Aggression|Interceptions|Positioning|Vision|Penalties|Composure|Marking|StandingTackle|SlidingTackle|GKDiving|GKHandling|GKKicking|GKPositioning|GKReflexes|Release Clause(M)|\n",
            "+------+-------------+---+--------------------+-----------+--------------------+-------+---------+--------------------+--------------------+--------+-------+-------+--------------+------------------------+---------+-----------+--------------+---------+---------+--------+-------------+------------+-----------+--------------------+------+----------+------+----------+--------+---------+---------------+------------+-------+---------+-----+----------+-----------+-----------+------------+-----------+-------+---------+-------+---------+-------+-------+--------+---------+----------+-------------+-----------+------+---------+---------+-------+--------------+-------------+--------+----------+---------+-------------+----------+-----------------+\n",
            "|199005|      M. Ryan| 26|https://cdn.sofif...|  Australia|https://cdn.sofif...|     79|       81|Brighton & Hove A...|https://cdn.sofif...|    10.5|     41|   1341|         Right|                       1|        4|          1|Medium/ Medium|   Normal|      Yes|      GK|            1| Jul 1, 2017|       null|                2022|   6.0|    182.88| 181.0| 82.100152|      23|       11|             14|          40|     15|       13|   23|        12|         45|         24|          53|         52|     53|       73|     50|       35|     78|     34|      68|       18|        36|           23|         10|    68|       25|       64|     10|            20|           17|      81|        74|       82|           78|        83|             20.7|\n",
            "|207928|     T. Rogi?| 25|https://cdn.sofif...|  Australia|https://cdn.sofif...|     76|       79|              Celtic|https://cdn.sofif...|     9.5|     46|   1885|          Left|                       1|        4|          4|Medium/ Medium|   Normal|       No|     CAM|           23| Jan 9, 2013|       null|                2023|   6.2|   188.976| 194.0| 87.996848|      61|       70|             60|          76|     68|       82|   76|        57|         70|         82|          74|         66|     74|       64|     75|       82|     52|     55|      77|       80|        48|           38|         75|    73|       56|       83|     46|            48|           41|      12|        11|       13|           12|        11|             17.8|\n",
            "|165735|     B. Jones| 36|https://cdn.sofif...|  Australia|https://cdn.sofif...|     75|       75|            Al Nassr|https://cdn.sofif...|    900K|     17|   1171|          Left|                       1|        2|          1|Medium/ Medium|   Normal|       No|      GK|            1| Aug 1, 2018|       null|                2020|   6.4|   195.072| 192.0| 87.089664|      19|       17|             11|          28|     11|       18|   13|        12|         18|         22|          52|         55|     25|       75|     30|       24|     70|     40|      72|       11|        32|           23|         17|    30|       35|       56|     17|            13|           13|      75|        69|       69|           80|        75|              1.5|\n",
            "|195033|    M. Leckie| 27|https://cdn.sofif...|  Australia|https://cdn.sofif...|     75|       75|          Hertha BSC|https://cdn.sofif...|       7|     25|   1967|         Right|                       2|        4|          3|  High/ Medium|   Normal|       No|      RM|            7| Jul 1, 2017|       null|                2021|  5.11|  155.7528| 181.0| 82.100152|      76|       68|             72|          68|     65|       76|   72|        36|         54|         75|          91|         89|     75|       70|     78|       74|     87|     77|      70|       67|        73|           54|         73|    65|       69|       67|     63|            48|           40|       8|        10|        8|            6|        10|             11.9|\n",
            "|205347|    M. Luongo| 25|https://cdn.sofif...|  Australia|https://cdn.sofif...|     74|       77| Queens Park Rangers|https://cdn.sofif...|       6|      9|   1960|         Right|                       1|        3|          3|  Medium/ High|   Normal|       No|     RDM|            8|May 28, 2015|       null|                2020|   5.9|   179.832| 168.0| 76.203456|      51|       63|             59|          71|     46|       74|   49|        46|         68|         72|          73|         74|     79|       72|     76|       69|     84|     92|      72|       63|        76|           72|         65|    70|       52|       63|     64|            77|           74|      15|        13|        9|           14|         6|             11.9|\n",
            "|199000| T. Sainsbury| 26|https://cdn.sofif...|  Australia|https://cdn.sofif...|     74|       77|                 PSV|https://cdn.sofif...|       6|     13|   1836|         Right|                       1|        3|          2|Medium/ Medium|     Lean|       No|     RCB|           20| Aug 7, 2018|       null|                2021|   6.0|    182.88| 172.0| 78.017824|      58|       45|             74|          67|     33|       55|   62|        25|         68|         55|          74|         74|     67|       74|     73|       61|     77|     75|      76|       43|        62|           77|         52|    62|       63|       70|     82|            70|           76|      13|        12|       11|           14|         6|              8.9|\n",
            "|202157|    A. Behich| 27|https://cdn.sofif...|  Australia|https://cdn.sofif...|     74|       75|                 PSV|https://cdn.sofif...|       5|     13|   1999|          Left|                       1|        4|          3|  High/ Medium|   Normal|       No|      LB|           16|Aug 31, 2018|       null|                2022|   5.7|   173.736| 139.0| 63.049288|      74|       65|             54|          74|     57|       74|   72|        55|         71|         72|          84|         83|     84|       66|     86|       72|     73|     82|      52|       62|        79|           66|         63|    50|       47|       65|     70|            73|           74|      14|        11|       11|           14|        15|              7.4|\n",
            "|182435|  M. Langerak| 29|https://cdn.sofif...|  Australia|https://cdn.sofif...|     73|       74|      Nagoya Grampus|https://cdn.sofif...|     3.1|      6|   1145|         Right|                       2|        3|          1|Medium/ Medium|     Lean|      Yes|      GK|           22|Jan 14, 2018|       null|                2021|   6.4|   195.072| 185.0|  83.91452|      18|       13|             19|          36|     16|       14|   19|        17|         23|         22|          48|         51|     46|       74|     29|       21|     65|     33|      64|       14|        18|           19|         14|    39|       22|       45|     12|            15|           19|      75|        73|       52|           69|        76|              4.1|\n",
            "|182440|     R. Kruse| 29|https://cdn.sofif...|  Australia|https://cdn.sofif...|     73|       73|     VfL Bochum 1848|https://cdn.sofif...|     3.9|     16|   1849|         Right|                       1|        2|          3|  High/ Medium|     Lean|       No|      LM|           10|Jul 21, 2017|       null|                2019|  5.11|  155.7528| 146.0| 66.224432|      70|       73|             52|          69|     66|       72|   69|        54|         58|         72|          85|         80|     75|       69|     72|       66|     70|     61|      54|       70|        62|           40|         76|    70|       65|       68|     36|            39|           38|      14|        11|       12|           14|        15|              6.3|\n",
            "|229585|   M. Degenek| 24|https://cdn.sofif...|  Australia|https://cdn.sofif...|     73|       80|                null|https://cdn.sofif...|    null|   null|   1995|         Right|                       1|        4|          2|    High/ High|     Lean|       No|      CB|            2|        null|       null|                null|   6.2|   188.976| 181.0| 82.100152|      70|       59|             70|          74|     62|       58|   69|        44|         72|         64|          79|         79|     78|       72|     70|       70|     81|     86|      84|       61|        81|           70|         55|    67|       58|       80|     65|            71|           71|      14|        12|        7|           10|        12|             null|\n",
            "|181481|   D. Vukovic| 33|https://cdn.sofif...|  Australia|https://cdn.sofif...|     73|       73|            KRC Genk|https://cdn.sofif...|       2|     10|   1160|         Right|                       1|        3|          1|Medium/ Medium|   Stocky|       No|      GK|           18| Jul 1, 2017|       null|                2019|   6.2|   188.976| 218.0| 98.883056|      11|       11|             16|          22|     11|       11|   15|        13|         12|         18|          53|         47|     41|       72|     58|       18|     66|     34|      76|       13|        41|           17|          6|    38|       37|       34|     23|            15|           11|      73|        69|       63|           73|        76|                3|\n",
            "|181483|  M. Jedin��k| 33|https://cdn.sofif...|  Australia|https://cdn.sofif...|     73|       73|         Aston Villa|https://cdn.sofif...|     1.6|     15|   1925|         Right|                       1|        3|          2|  Medium/ High|   Normal|      Yes|     CDM|           15|Aug 17, 2016|       null|                2019|   6.2|   188.976| 172.0| 78.017824|      59|       59|             71|          67|     63|       55|   59|        75|         65|         69|          47|         51|     47|       72|     63|       78|     57|     67|      84|       71|        81|           78|         52|    67|       88|       73|     75|            73|           67|      13|         7|       15|           15|        15|              3.1|\n",
            "|176992|  M. Milligan| 32|https://cdn.sofif...|  Australia|https://cdn.sofif...|     72|       72|           Hibernian|https://cdn.sofif...|     1.8|      6|   1962|         Right|                       1|        3|          2|  Medium/ High|   Normal|       No|     LCB|            5|Aug 18, 2018|       null|                2020|   5.1|   155.448| 172.0| 78.017824|      61|       48|             68|          70|     62|       62|   61|        62|         73|         66|          68|         65|     64|       69|     70|       73|     77|     82|      79|       67|        80|           68|         53|    73|       80|       78|     61|            73|           72|       7|        11|       14|           15|         8|              3.1|\n",
            "|173703|  R. Williams| 29|https://cdn.sofif...|  Australia|https://cdn.sofif...|     72|       72|        Al Qadisiyah|https://cdn.sofif...|     2.4|     15|   1770|         Right|                       1|        4|          2|Medium/ Medium|   Normal|       No|     LCB|            6|Jul 11, 2018|       null|                2019|   6.1|   185.928| 172.0| 78.017824|      60|       43|             69|          66|     34|       66|   42|        36|         64|         62|          61|         62|     58|       70|     57|       68|     75|     74|      82|       49|        80|           69|         57|    68|       38|       73|     69|            70|           69|      13|        10|        8|           10|        11|                4|\n",
            "|188071|       T. Oar| 26|https://cdn.sofif...|  Australia|https://cdn.sofif...|     72|       72|Central Coast Mar...|https://cdn.sofif...|     3.3|      3|   1805|          Left|                       1|        4|          3|  High/ Medium|     Lean|       No|      LM|           10|Sep 19, 2018|       null|                2020|   5.8|   176.784| 146.0| 66.224432|      75|       53|             31|          67|     63|       75|   82|        72|         57|         70|          84|         78|     78|       70|     77|       73|     58|     73|      49|       63|        28|           41|         65|    71|       70|       63|     50|            31|           34|      15|        15|       16|            8|        13|              4.2|\n",
            "|202678|    J. Risdon| 25|https://cdn.sofif...|  Australia|https://cdn.sofif...|     72|       75|Western Sydney Wa...|https://cdn.sofif...|     3.2|      7|   1823|         Right|                       1|        3|          3|  Medium/ High|   Normal|       No|      RB|            4| Jun 1, 2017|       null|                2019|   5.6|   170.688| 154.0| 69.853168|      70|       48|             53|          63|     30|       64|   59|        38|         60|         68|          78|         76|     63|       57|     87|       50|     92|     85|      79|       55|        71|           74|         43|    57|       43|       60|     68|            75|           73|       6|         8|        7|           15|         8|              4.3|\n",
            "|164853|  A. Federici| 33|https://cdn.sofif...|  Australia|https://cdn.sofif...|     72|       72|          Stoke City|https://cdn.sofif...|     1.6|     22|   1287|         Right|                       1|        2|          1|Medium/ Medium|   Stocky|      Yes|      GK|           32| Jul 3, 2018|       null|                2020|   6.2|   188.976| 198.0| 89.811216|      19|       18|             18|          28|     19|       19|   27|        21|         25|         27|          44|         46|     50|       72|     42|       17|     72|     38|      70|       14|        44|           22|         16|    63|       41|       61|     27|            11|           18|      72|        69|       77|           70|        71|                3|\n",
            "|179840|M. Spiranovic| 30|https://cdn.sofif...|  Australia|https://cdn.sofif...|     71|       71|         Perth Glory|https://cdn.sofif...|     1.8|      5|   1472|         Right|                       1|        4|          2|Medium/ Medium|   Normal|       No|      CB|           13|Jun 22, 2018|       null|                2019|   6.4|   195.072| 194.0| 87.996848|      42|       19|             72|          67|     18|       22|   29|        44|         54|         52|          61|         66|     41|       67|     33|       44|     47|     69|      81|       19|        52|           73|         24|    49|       53|       70|     70|            76|           69|      12|        13|       15|           12|         7|              2.2|\n",
            "|198810|    B. Wright| 25|https://cdn.sofif...|  Australia|https://cdn.sofif...|     71|       74|        Bristol City|https://cdn.sofif...|     2.5|     23|   1645|         Right|                       1|        3|          2|Medium/ Medium|   Normal|       No|      CB|            5| Jan 6, 2017|       null|                2019|   6.0|    182.88| 174.0| 78.925008|      55|       39|             70|          60|     22|       53|   36|        27|         44|         63|          64|         63|     60|       65|     63|       46|     80|     70|      79|       36|        80|           68|         39|    46|       39|       64|     69|            70|           70|      13|        10|       15|           15|        16|              4.9|\n",
            "|211378|    J. Irvine| 25|https://cdn.sofif...|  Australia|https://cdn.sofif...|     71|       75|           Hull City|https://cdn.sofif...|     3.1|     17|   1982|         Right|                       1|        3|          3|    High/ High|   Normal|       No|     CAM|           22|Aug 30, 2017|       null|                2020|   6.2|   188.976| 154.0| 69.853168|      61|       70|             73|          69|     58|       67|   60|        63|         65|         71|          75|         68|     62|       74|     66|       72|     82|     81|      80|       66|        75|           69|         71|    71|       55|       71|     68|            71|           68|       7|        13|       11|            9|        11|                6|\n",
            "+------+-------------+---+--------------------+-----------+--------------------+-------+---------+--------------------+--------------------+--------+-------+-------+--------------+------------------------+---------+-----------+--------------+---------+---------+--------+-------------+------------+-----------+--------------------+------+----------+------+----------+--------+---------+---------------+------------+-------+---------+-----+----------+-----------+-----------+------------+-----------+-------+---------+-------+---------+-------+-------+--------+---------+----------+-------------+-----------+------+---------+---------+-------+--------------+-------------+--------+----------+---------+-------------+----------+-----------------+\n",
            "only showing top 20 rows\n",
            "\n",
            "\n",
            "Position having the highest Avg Potential for Australia Only:\n",
            "\n",
            "+--------+--------------+\n",
            "|Position|avg(Potential)|\n",
            "+--------+--------------+\n",
            "|     RDM|          77.0|\n",
            "+--------+--------------+\n",
            "only showing top 1 row\n",
            "\n"
          ],
          "name": "stdout"
        }
      ]
    },
    {
      "cell_type": "markdown",
      "metadata": {
        "colab_type": "text",
        "id": "lGWtR6Ast7o8"
      },
      "source": [
        "Interesting, is there a age that the player is fully released his potential? If there is, could you find out?\n",
        "\n",
        "****\n",
        "\n",
        "<div class=\"alert alert-block alert-info\">\n",
        "\n",
        "**Code**: \n",
        "    You are required to plot the finding visually by having Age as the x-axis and avg potential on age with avg overall on age at y-axis. (Hint: you may need to select and aggregate on data first and then turn it into pandas for plotting)\n",
        "\n",
        "<div class=\"alert alert-block alert-warning\">\n",
        "    \n",
        "**Report**: \n",
        "    **1.1.C** Please include the following plot into your report with proper section title  '1.1.C':     \n",
        "    <ol>\n",
        "        <li> Plot the finding visually by having Age as the x-axis; the avg potential on age and the avg overall on age at y-axis. </li>\n",
        "        <li> Find the age when the players are fully released their potential in general?\n",
        "    </ol>\n",
        "    \n",
        "</div>\n",
        "</div>"
      ]
    },
    {
      "cell_type": "code",
      "metadata": {
        "colab_type": "code",
        "id": "mRvkk376u-dE",
        "outputId": "8a028aaf-c630-45f6-d774-0b78147aa007",
        "colab": {
          "base_uri": "https://localhost:8080/",
          "height": 1000
        }
      },
      "source": [
        "#import required libraries\n",
        "import matplotlib.pyplot as plt\n",
        "import numpy as np\n",
        "import pandas as pd\n",
        "\n",
        "#try-except block for error handling to prevent abnormal termination of code\n",
        "try:\n",
        "  #finding the average potential by age\n",
        "  df_avg_potential_by_age = df.groupBy('Age').agg(F.mean('Potential')).sort('Age').toPandas()\n",
        "  print('The Average Potential by Age:\\n\\n' + str(df_avg_potential_by_age))\n",
        "  #finding the average overall by age\n",
        "  df_avg_overall_by_age = df.groupBy('Age').agg(F.mean('Overall')).sort('Age').toPandas()\n",
        "  print('\\n\\nThe Average Overall by Age:\\n\\n' + str(df_avg_overall_by_age))\n",
        "\n",
        "except Exception as e:\n",
        "  logging.error(e)"
      ],
      "execution_count": 0,
      "outputs": [
        {
          "output_type": "stream",
          "text": [
            "The Average Potential by Age:\n",
            "\n",
            "    Age  avg(Potential)\n",
            "0    16       73.190476\n",
            "1    17       74.339100\n",
            "2    18       73.530055\n",
            "3    19       73.146484\n",
            "4    20       73.213710\n",
            "5    21       72.957836\n",
            "6    22       72.819403\n",
            "7    23       72.555556\n",
            "8    24       72.079529\n",
            "9    25       71.290371\n",
            "10   26       70.176640\n",
            "11   27       69.709122\n",
            "12   28       69.444142\n",
            "13   29       69.357664\n",
            "14   30       69.700109\n",
            "15   31       69.850071\n",
            "16   32       69.529617\n",
            "17   33       69.558824\n",
            "18   34       69.539604\n",
            "19   35       68.132653\n",
            "20   36       67.937008\n",
            "21   37       68.939024\n",
            "22   38       67.378378\n",
            "23   39       67.640000\n",
            "24   40       67.692308\n",
            "25   41       67.600000\n",
            "26   42       65.000000\n",
            "27   44       50.500000\n",
            "28   45       71.000000\n",
            "\n",
            "\n",
            "The Average Overall by Age:\n",
            "\n",
            "    Age  avg(Overall)\n",
            "0    16     54.452381\n",
            "1    17     56.404844\n",
            "2    18     57.741803\n",
            "3    19     59.583008\n",
            "4    20     61.858871\n",
            "5    21     63.480675\n",
            "6    22     64.994030\n",
            "7    23     66.244745\n",
            "8    24     67.306333\n",
            "9    25     67.973465\n",
            "10   26     68.514780\n",
            "11   27     68.949225\n",
            "12   28     69.213442\n",
            "13   29     69.246090\n",
            "14   30     69.695747\n",
            "15   31     69.850071\n",
            "16   32     69.529617\n",
            "17   33     69.558824\n",
            "18   34     69.539604\n",
            "19   35     68.132653\n",
            "20   36     67.937008\n",
            "21   37     68.939024\n",
            "22   38     67.378378\n",
            "23   39     67.640000\n",
            "24   40     67.692308\n",
            "25   41     67.600000\n",
            "26   42     65.000000\n",
            "27   44     50.500000\n",
            "28   45     71.000000\n"
          ],
          "name": "stdout"
        }
      ]
    },
    {
      "cell_type": "code",
      "metadata": {
        "id": "OcxKkWNqdvjn",
        "colab_type": "code",
        "outputId": "05535b2a-8e96-40ab-af1b-3e1de14d52e1",
        "colab": {
          "base_uri": "https://localhost:8080/",
          "height": 314
        }
      },
      "source": [
        "#Plot Age on X-axis vs Average Potential and Average Overall\n",
        "\n",
        "#try-except block for error handling to prevent abnormal termination of code\n",
        "try:\n",
        "  #prepare data per axis for avg potential by age\n",
        "  age_pot = df_avg_potential_by_age[\"Age\"]\n",
        "  average_potential = df_avg_potential_by_age[\"avg(Potential)\"]\n",
        "  #prepare data per axis for avg overall by age\n",
        "  age_ov = df_avg_overall_by_age[\"Age\"]\n",
        "  average_overall = df_avg_overall_by_age[\"avg(Overall)\"]\n",
        "  #include plot title\n",
        "  plt.title('Line Plot of Age against Average Potential and Average Overall')\n",
        "  #include x-axis label\n",
        "  plt.xlabel('Player Age (in Years)')\n",
        "  #include y-axis label\n",
        "  plt.ylabel('Average Score')\n",
        "  #plot lines for average potential and average overall\n",
        "  plt.plot(age_pot, average_potential, label = \"Average Potential\")\n",
        "  plt.plot(age_ov, average_overall, label = \"Average Overall\")\n",
        "  #include legend\n",
        "  plt.legend()\n",
        "  #include grid Lines\n",
        "  plt.grid(b=True, which='major', linestyle='-')\n",
        "  #change plot size\n",
        "  plt.figure(figsize=(10,5))\n",
        "  # Generate Plot\n",
        "  plt.show()\n",
        "except Exception as e:\n",
        "  logging.error(e)"
      ],
      "execution_count": 0,
      "outputs": [
        {
          "output_type": "display_data",
          "data": {
            "image/png": "[encoded data removed]",
            "text/plain": [
              "<Figure size 432x288 with 1 Axes>"
            ]
          },
          "metadata": {
            "tags": [],
            "needs_background": "light"
          }
        },
        {
          "output_type": "display_data",
          "data": {
            "text/plain": [
              "<Figure size 720x360 with 0 Axes>"
            ]
          },
          "metadata": {
            "tags": []
          }
        }
      ]
    },
    {
      "cell_type": "code",
      "metadata": {
        "id": "V6IZKj4gjKvX",
        "colab_type": "code",
        "outputId": "0079fc4d-b340-4acb-bbe4-8ad71ec17287",
        "colab": {
          "base_uri": "https://localhost:8080/",
          "height": 392
        }
      },
      "source": [
        "#Find the Intersect (When, on average, players fully realise their potential)\n",
        "'''\n",
        "Referenced from https://stackoverflow.com/questions/41247600/subset-pandas-dataframe-by-overlap-with-another\n",
        "'''\n",
        "#try-except block for error handling to prevent abnormal termination of code\n",
        "try:\n",
        "  #Merges the data frames, and only shows when the Overall and Potential line up.\n",
        "  Potential_Realised = (df_avg_overall_by_age[df_avg_overall_by_age[\"avg(Overall)\"].isin(df_avg_potential_by_age[\"avg(Potential)\"])])\n",
        "\n",
        "  #Prints all ages where they are merged\n",
        "  print(Potential_Realised)\n",
        "  #Prints the first age they merge\n",
        "  print(\"\")\n",
        "  print(\"Age where players fully released their potential in general\\n\")\n",
        "  print(Potential_Realised.iloc[[0]])\n",
        "\n",
        "except Exception as e:\n",
        "  logging.error(e)"
      ],
      "execution_count": 0,
      "outputs": [
        {
          "output_type": "stream",
          "text": [
            "    Age  avg(Overall)\n",
            "15   31     69.850071\n",
            "16   32     69.529617\n",
            "17   33     69.558824\n",
            "18   34     69.539604\n",
            "19   35     68.132653\n",
            "20   36     67.937008\n",
            "21   37     68.939024\n",
            "22   38     67.378378\n",
            "23   39     67.640000\n",
            "24   40     67.692308\n",
            "25   41     67.600000\n",
            "26   42     65.000000\n",
            "27   44     50.500000\n",
            "28   45     71.000000\n",
            "\n",
            "Age where players fully released their potential in general\n",
            "\n",
            "    Age  avg(Overall)\n",
            "15   31     69.850071\n"
          ],
          "name": "stdout"
        }
      ]
    },
    {
      "cell_type": "markdown",
      "metadata": {
        "colab_type": "text",
        "id": "gMqIOge42NI7"
      },
      "source": [
        "## Part 2 - Unsupervised Learning: Kmeans\n",
        "\n",
        "<a id=\"kmeans\"></a>\n",
        "***\n",
        "\n",
        "In this part, you are required to build a Kmeans clustering for exploring the player segmentation. \n",
        "\n",
        "\n",
        "### 2.1 Data Preparation\n",
        "\n",
        "*Remind: You must only use **pyspark** to complete the following data processing and model building. Otherwise, you lose all marks.*"
      ]
    },
    {
      "cell_type": "markdown",
      "metadata": {
        "colab_type": "text",
        "id": "eHi1rU4p-6wK"
      },
      "source": [
        "\n",
        "****\n",
        "\n",
        "<div class=\"alert alert-block alert-info\">\n",
        "\n",
        "**Code**: \n",
        "    You will need to remove the Goal Keepers (Position = 'GK') and use the position attribute, ID attribute (for later processing) and skill-set attributes (Height(CM),\n",
        "Weight(KG),\n",
        "Crossing,\n",
        "Finishing,\n",
        "HeadingAccuracy,\n",
        "ShortPassing,\n",
        "Volleys,\n",
        "Dribbling,\n",
        "Curve,\n",
        "FKAccuracy,\n",
        "LongPassing,\n",
        "BallControl,\n",
        "Acceleration,\n",
        "SprintSpeed,\n",
        "Agility,\n",
        "Reactions,\n",
        "Balance,\n",
        "ShotPower,\n",
        "Jumping,\n",
        "Stamina,\n",
        "Strength,\n",
        "LongShots,\n",
        "Aggression,\n",
        "Interceptions,\n",
        "Positioning,\n",
        "Vision,\n",
        "Penalties,\n",
        "Composure,\n",
        "Marking,\n",
        "StandingTackle,\n",
        "SlidingTackle) \n",
        "\n",
        "</div>\n",
        "\n"
      ]
    },
    {
      "cell_type": "code",
      "metadata": {
        "colab_type": "code",
        "id": "X2LHjTMv3w_7",
        "outputId": "75c16fe2-0363-409f-ec24-80d5ecd6b46a",
        "colab": {
          "base_uri": "https://localhost:8080/",
          "height": 479
        }
      },
      "source": [
        "from pyspark.sql.functions import when,col\n",
        "\n",
        "'''\n",
        "Code Reference: https://stackoverflow.com/questions/41775281/filtering-a-pyspark-dataframe-using-isin-by-exclusion\n",
        "'''\n",
        "#Filtering the Postion = GK (Goal Keepers) from column \"Position\"\n",
        "\n",
        "df_filtered = df.filter(~col('Position').isin(['GK']))\n",
        "df_filtered.show()"
      ],
      "execution_count": 0,
      "outputs": [
        {
          "output_type": "stream",
          "text": [
            "+------+-----------------+---+--------------------+-----------+--------------------+-------+---------+-------------------+--------------------+--------+-------+-------+--------------+------------------------+---------+-----------+--------------+----------+---------+--------+-------------+------------+-----------+--------------------+------+----------+------+----------+--------+---------+---------------+------------+-------+---------+-----+----------+-----------+-----------+------------+-----------+-------+---------+-------+---------+-------+-------+--------+---------+----------+-------------+-----------+------+---------+---------+-------+--------------+-------------+--------+----------+---------+-------------+----------+-----------------+\n",
            "|    ID|             Name|Age|               Photo|Nationality|                Flag|Overall|Potential|               Club|           Club Logo|value(M)|wage(K)|Special|Preferred Foot|International Reputation|Weak Foot|Skill Moves|     Work Rate| Body Type|Real Face|Position|Jersey Number|      Joined|Loaned From|Contract Valid Until|Height|Height(CM)|Weight|Weight(KG)|Crossing|Finishing|HeadingAccuracy|ShortPassing|Volleys|Dribbling|Curve|FKAccuracy|LongPassing|BallControl|Acceleration|SprintSpeed|Agility|Reactions|Balance|ShotPower|Jumping|Stamina|Strength|LongShots|Aggression|Interceptions|Positioning|Vision|Penalties|Composure|Marking|StandingTackle|SlidingTackle|GKDiving|GKHandling|GKKicking|GKPositioning|GKReflexes|Release Clause(M)|\n",
            "+------+-----------------+---+--------------------+-----------+--------------------+-------+---------+-------------------+--------------------+--------+-------+-------+--------------+------------------------+---------+-----------+--------------+----------+---------+--------+-------------+------------+-----------+--------------------+------+----------+------+----------+--------+---------+---------------+------------+-------+---------+-----+----------+-----------+-----------+------------+-----------+-------+---------+-------+---------+-------+-------+--------+---------+----------+-------------+-----------+------+---------+---------+-------+--------------+-------------+--------+----------+---------+-------------+----------+-----------------+\n",
            "|158023|         L. Messi| 31|https://cdn.sofif...|  Argentina|https://cdn.sofif...|     94|       94|       FC Barcelona|https://cdn.sofif...|   110.5|    565|   2202|          Left|                       5|        4|          4|Medium/ Medium|     Messi|      Yes|      RF|           10| Jul 1, 2004|       null|                2021|   5.7|   173.736| 159.0| 72.121128|      84|       95|             70|          90|     86|       97|   93|        94|         87|         96|          91|         86|     91|       95|     95|       85|     68|     72|      59|       94|        48|           22|         94|    94|       75|       96|     33|            28|           26|       6|        11|       15|           14|         8|            226.5|\n",
            "| 20801|Cristiano Ronaldo| 33|https://cdn.sofif...|   Portugal|https://cdn.sofif...|     94|       94|           Juventus|https://cdn.sofif...|      77|    405|   2228|         Right|                       5|        4|          5|     High/ Low|C. Ronaldo|      Yes|      ST|            7|Jul 10, 2018|       null|                2022|   6.2|   188.976| 183.0| 83.007336|      84|       94|             89|          81|     87|       88|   81|        76|         77|         94|          89|         91|     87|       96|     70|       95|     95|     88|      79|       93|        63|           29|         95|    82|       85|       95|     28|            31|           23|       7|        11|       15|           14|        11|            127.1|\n",
            "|190871|        Neymar Jr| 26|https://cdn.sofif...|     Brazil|https://cdn.sofif...|     92|       93|Paris Saint-Germain|https://cdn.sofif...|   118.5|    290|   2143|         Right|                       5|        5|          5|  High/ Medium|    Neymar|      Yes|      LW|           10| Aug 3, 2017|       null|                2022|   5.9|   179.832| 150.0|   68.0388|      79|       87|             62|          84|     84|       96|   88|        87|         78|         95|          94|         90|     96|       94|     84|       80|     61|     81|      49|       82|        56|           36|         89|    87|       81|       94|     27|            24|           33|       9|         9|       15|           15|        11|            228.1|\n",
            "|192985|     K. De Bruyne| 27|https://cdn.sofif...|    Belgium|https://cdn.sofif...|     91|       92|    Manchester City|https://cdn.sofif...|     102|    355|   2281|         Right|                       4|        5|          4|    High/ High|    Normal|      Yes|     RCM|            7|Aug 30, 2015|       null|                2023|  5.11|  155.7528| 154.0| 69.853168|      93|       82|             55|          92|     82|       86|   85|        83|         91|         91|          78|         76|     79|       91|     77|       91|     63|     90|      75|       91|        76|           61|         87|    94|       79|       88|     68|            58|           51|      15|        13|        5|           10|        13|            196.4|\n",
            "|183277|        E. Hazard| 27|https://cdn.sofif...|    Belgium|https://cdn.sofif...|     91|       91|            Chelsea|https://cdn.sofif...|      93|    340|   2142|         Right|                       4|        4|          4|  High/ Medium|    Normal|      Yes|      LF|           10| Jul 1, 2012|       null|                2020|   5.8|   176.784| 163.0| 73.935496|      81|       84|             61|          89|     80|       95|   83|        79|         83|         94|          94|         88|     95|       90|     94|       82|     56|     83|      66|       80|        54|           41|         87|    89|       86|       91|     34|            27|           22|      11|        12|        6|            8|         8|            172.1|\n",
            "|177003|        L. Modri?| 32|https://cdn.sofif...|    Croatia|https://cdn.sofif...|     91|       91|        Real Madrid|https://cdn.sofif...|      67|    420|   2280|         Right|                       4|        4|          4|    High/ High|      Lean|      Yes|     RCM|           10| Aug 1, 2012|       null|                2020|   5.8|   176.784| 146.0| 66.224432|      86|       72|             55|          93|     76|       90|   85|        78|         88|         93|          80|         72|     93|       90|     94|       79|     68|     89|      58|       82|        62|           83|         79|    92|       82|       84|     60|            76|           73|      13|         9|        7|           14|         9|            137.4|\n",
            "|176580|       L. Su��rez| 31|https://cdn.sofif...|    Uruguay|https://cdn.sofif...|     91|       91|       FC Barcelona|https://cdn.sofif...|      80|    455|   2346|         Right|                       5|        4|          3|  High/ Medium|    Normal|      Yes|      RS|            9|Jul 11, 2014|       null|                2021|   6.0|    182.88| 190.0|  86.18248|      77|       93|             77|          82|     88|       87|   86|        84|         64|         90|          86|         75|     82|       92|     83|       86|     69|     90|      83|       85|        87|           41|         92|    84|       85|       85|     62|            45|           38|      27|        25|       31|           33|        37|              164|\n",
            "|155862|     Sergio Ramos| 32|https://cdn.sofif...|      Spain|https://cdn.sofif...|     91|       91|        Real Madrid|https://cdn.sofif...|      51|    380|   2201|         Right|                       4|        3|          3|  High/ Medium|    Normal|      Yes|     RCB|           15| Aug 1, 2005|       null|                2020|   6.0|    182.88| 181.0| 82.100152|      66|       60|             91|          78|     66|       63|   74|        72|         77|         84|          76|         75|     78|       85|     66|       79|     93|     84|      83|       59|        88|           90|         60|    63|       75|       82|     87|            92|           91|      11|         8|        9|            7|        11|            104.6|\n",
            "|188545|   R. Lewandowski| 29|https://cdn.sofif...|     Poland|https://cdn.sofif...|     90|       90| FC Bayern M��nchen|https://cdn.sofif...|      77|    205|   2152|         Right|                       4|        4|          4|  High/ Medium|    Normal|      Yes|      ST|            9| Jul 1, 2014|       null|                2021|   6.0|    182.88| 176.0| 79.832192|      62|       91|             85|          83|     89|       85|   77|        86|         65|         89|          77|         78|     78|       90|     78|       88|     84|     78|      84|       84|        80|           39|         91|    77|       88|       86|     34|            42|           19|      15|         6|       12|            8|        10|            127.1|\n",
            "|182521|         T. Kroos| 28|https://cdn.sofif...|    Germany|https://cdn.sofif...|     90|       90|        Real Madrid|https://cdn.sofif...|    76.5|    355|   2190|         Right|                       4|        5|          3|Medium/ Medium|    Normal|      Yes|     LCM|            8|Jul 17, 2014|       null|                2022|   6.0|    182.88| 168.0| 76.203456|      88|       76|             54|          92|     82|       81|   86|        84|         93|         90|          64|         62|     70|       89|     71|       87|     30|     75|      73|       92|        60|           82|         79|    86|       73|       85|     72|            79|           69|      10|        11|       13|            7|        10|            156.8|\n",
            "|182493|        D. God��n| 32|https://cdn.sofif...|    Uruguay|https://cdn.sofif...|     90|       90|   Atl��tico Madrid|https://cdn.sofif...|      44|    125|   1946|         Right|                       3|        3|          2|  Medium/ High|      Lean|      Yes|      CB|           10| Aug 4, 2010|       null|                2019|   6.2|   188.976| 172.0| 78.017824|      55|       42|             92|          79|     47|       53|   49|        51|         70|         76|          68|         68|     58|       85|     54|       67|     91|     66|      88|       43|        89|           88|         48|    52|       50|       82|     90|            89|           89|       6|         8|       15|            5|        15|             90.2|\n",
            "|168542|      David Silva| 32|https://cdn.sofif...|      Spain|https://cdn.sofif...|     90|       90|    Manchester City|https://cdn.sofif...|      60|    285|   2115|          Left|                       4|        2|          4|  High/ Medium|    Normal|      Yes|     LCM|           21|Jul 14, 2010|       null|                2020|   5.8|   176.784| 148.0| 67.131616|      84|       76|             54|          93|     82|       89|   82|        77|         87|         94|          70|         64|     92|       90|     90|       72|     64|     78|      52|       75|        57|           50|         89|    92|       75|       93|     59|            53|           29|       6|        15|        7|            6|        12|              111|\n",
            "|215914|        N. Kant��| 27|https://cdn.sofif...|     France|https://cdn.sofif...|     89|       90|            Chelsea|https://cdn.sofif...|      63|    225|   2189|         Right|                       3|        3|          2|  Medium/ High|      Lean|      Yes|     LDM|           13|Jul 16, 2016|       null|                2023|   5.6|   170.688| 159.0| 72.121128|      68|       65|             54|          86|     56|       79|   49|        49|         81|         80|          82|         78|     82|       93|     92|       71|     77|     96|      76|       69|        90|           92|         71|    79|       54|       85|     90|            91|           85|      15|        12|       10|            7|        10|            121.3|\n",
            "|211110|        P. Dybala| 24|https://cdn.sofif...|  Argentina|https://cdn.sofif...|     89|       94|           Juventus|https://cdn.sofif...|      89|    205|   2092|          Left|                       3|        3|          4|  High/ Medium|    Normal|      Yes|      LF|           21| Jul 1, 2015|       null|                2022|   5.1|   155.448| 165.0|  74.84268|      82|       84|             68|          87|     88|       92|   88|        88|         75|         92|          87|         83|     91|       86|     85|       82|     75|     80|      65|       88|        48|           32|         84|    87|       86|       84|     23|            20|           20|       5|         4|        4|            5|         8|            153.5|\n",
            "|202126|          H. Kane| 24|https://cdn.sofif...|    England|https://cdn.sofif...|     89|       91|  Tottenham Hotspur|https://cdn.sofif...|    83.5|    205|   2165|         Right|                       3|        4|          3|    High/ High|    Normal|      Yes|      ST|            9| Jul 1, 2010|       null|                2024|   6.2|   188.976| 196.0| 88.904032|      75|       94|             85|          80|     84|       80|   78|        68|         82|         84|          68|         72|     71|       91|     71|       88|     78|     89|      84|       85|        76|           35|         93|    80|       90|       89|     56|            36|           38|       8|        10|       11|           14|        11|            160.7|\n",
            "|194765|     A. Griezmann| 27|https://cdn.sofif...|     France|https://cdn.sofif...|     89|       90|   Atl��tico Madrid|https://cdn.sofif...|      78|    145|   2246|          Left|                       4|        3|          4|    High/ High|      Lean|      Yes|     CAM|            7|Jul 28, 2014|       null|                2023|   5.9|   179.832| 161.0| 73.028312|      82|       90|             84|          83|     87|       88|   84|        78|         76|         90|          88|         85|     90|       90|     80|       80|     90|     83|      62|       82|        69|           35|         91|    83|       79|       87|     59|            47|           48|      14|         8|       14|           13|        14|            165.8|\n",
            "|189511|  Sergio Busquets| 29|https://cdn.sofif...|      Spain|https://cdn.sofif...|     89|       89|       FC Barcelona|https://cdn.sofif...|    51.5|    315|   2065|         Right|                       4|        3|          3|Medium/ Medium|      Lean|      Yes|     CDM|            5| Sep 1, 2008|       null|                2023|   6.2|   188.976| 168.0| 76.203456|      62|       67|             68|          89|     44|       80|   66|        68|         82|         88|          50|         52|     66|       87|     52|       61|     66|     86|      77|       54|        85|           87|         77|    87|       60|       90|     90|            86|           80|       5|         8|       13|            9|        13|            105.6|\n",
            "|179813|        E. Cavani| 31|https://cdn.sofif...|    Uruguay|https://cdn.sofif...|     89|       89|Paris Saint-Germain|https://cdn.sofif...|      60|    200|   2161|         Right|                       4|        4|          3|    High/ High|      Lean|      Yes|      LS|           21|Jul 16, 2013|       null|                2020|   6.1|   185.928| 170.0|  77.11064|      70|       89|             89|          78|     90|       80|   77|        76|         52|         82|          75|         76|     77|       91|     59|       87|     88|     92|      78|       79|        84|           48|         93|    77|       85|       82|     52|            45|           39|      12|         5|       13|           13|        10|              111|\n",
            "|153079|       S. Ag��ero| 30|https://cdn.sofif...|  Argentina|https://cdn.sofif...|     89|       89|    Manchester City|https://cdn.sofif...|    64.5|    300|   2107|         Right|                       4|        4|          4|  High/ Medium|    Stocky|      Yes|      ST|           10|Jul 28, 2011|       null|                2021|   5.8|   176.784| 154.0| 69.853168|      70|       93|             77|          81|     85|       89|   82|        73|         64|         89|          88|         80|     86|       90|     91|       88|     81|     76|      73|       83|        65|           24|         92|    83|       83|       90|     30|            20|           12|      13|        15|        6|           11|        14|            119.3|\n",
            "|138956|     G. Chiellini| 33|https://cdn.sofif...|      Italy|https://cdn.sofif...|     89|       89|           Juventus|https://cdn.sofif...|      27|    215|   1841|          Left|                       4|        3|          2|  Medium/ High|    Normal|      Yes|     LCB|            3| Jul 1, 2005|       null|                2020|   6.2|   188.976| 187.0| 84.821704|      58|       33|             83|          59|     45|       58|   60|        31|         59|         57|          63|         75|     54|       82|     55|       78|     89|     65|      89|       49|        92|           88|         28|    50|       50|       84|     93|            93|           90|       3|         3|        2|            4|         3|             44.6|\n",
            "+------+-----------------+---+--------------------+-----------+--------------------+-------+---------+-------------------+--------------------+--------+-------+-------+--------------+------------------------+---------+-----------+--------------+----------+---------+--------+-------------+------------+-----------+--------------------+------+----------+------+----------+--------+---------+---------------+------------+-------+---------+-----+----------+-----------+-----------+------------+-----------+-------+---------+-------+---------+-------+-------+--------+---------+----------+-------------+-----------+------+---------+---------+-------+--------------+-------------+--------+----------+---------+-------------+----------+-----------------+\n",
            "only showing top 20 rows\n",
            "\n"
          ],
          "name": "stdout"
        }
      ]
    },
    {
      "cell_type": "markdown",
      "metadata": {
        "colab_type": "text",
        "id": "kVLBzBId9iCk"
      },
      "source": [
        "To make the later stage easier, we define the position group by using the position feature (attributes on Position).\n",
        "- DEF = [LB,LWB,RB,LCB,RCB,CB,RWB] ,\n",
        "- FWD = [RF,LF,LW,RS,RW,LS,CF,ST] ,\n",
        "- MID = [LCM,LM,RDM,CAM,RAM,RCM,CM,CDM,RM,LAM,LDM]\n",
        "\n",
        "****\n",
        "\n",
        "<div class=\"alert alert-block alert-info\">\n",
        "\n",
        "**Code**: \n",
        "    You are required to create a new column called Position_Group with only DEF/FWD/MID in the dataframe you created in previous question\n",
        "\n",
        "</div>\n",
        "\n",
        "</div>"
      ]
    },
    {
      "cell_type": "code",
      "metadata": {
        "colab_type": "code",
        "id": "X4N6edcq5kE_",
        "outputId": "06dd776e-0acc-449d-91d1-d17cfed0a7cf",
        "colab": {
          "base_uri": "https://localhost:8080/",
          "height": 479
        }
      },
      "source": [
        "'''\n",
        "Code Reference: https://stackoverflow.com/questions/41775281/filtering-a-pyspark-dataframe-using-isin-by-exclusion \n",
        "'''\n",
        "\n",
        "#Assigning position features to 3 groups DEF, FWD and MID. \n",
        "#Defining the position features under 3 lists/groups\n",
        "DEF= [\"LB\",\"LWB\",\"RB\",\"LCB\",\"RCB\",\"CB\",\"RWB\"]\n",
        "FWD=  [\"RF\",\"LF\",\"LW\",\"RS\",\"RW\",\"LS\",\"CF\",\"ST\"]\n",
        "MID=  [\"LCM\",\"LM\",\"RDM\",\"CAM\",\"RAM\",\"RCM\",\"CM\",\"CDM\",\"RM\",\"LAM\",\"LDM\"]\n",
        "\n",
        "#Creating a new column \"Position_Group\", with new Position groups of DEf, FWD and MID respectively. \n",
        "df1 = df_filtered.withColumn(\"Position_Group\", when(col(\"Position\").isin(DEF), \"DEF\")\n",
        ".when(col(\"Position\").isin(FWD), \"FWD\")\n",
        ".when(col(\"Position\").isin(MID), \"MID\"))\n",
        "\n",
        "#df_kmeans_new (dataframe) has selected attributes along with \"ID\",\"Position_Group\". \n",
        "df_kmeans_new = df1.select(\"ID\",\"Height(CM)\",\"Weight(KG)\", \"Crossing\", \"Finishing\", \"HeadingAccuracy\", \"ShortPassing\", \n",
        "          \"Volleys\", \"Dribbling\", \"Curve\", \"FKAccuracy\", \"LongPassing\", \"BallControl\", \"Acceleration\", \n",
        "          \"SprintSpeed\", \"Agility\", \"Reactions\", \"Balance\", \"ShotPower\", \"Jumping\", \"Stamina\", \"Strength\", \n",
        "          \"LongShots\", \"Aggression\", \"Interceptions\", \"Positioning\", \"Vision\", \"Penalties\", \"Composure\", \n",
        "          \"Marking\", \"StandingTackle\", \"SlidingTackle\",\"Position_Group\")\n",
        "\n",
        "\n",
        "df_kmeans_new.show()"
      ],
      "execution_count": 0,
      "outputs": [
        {
          "output_type": "stream",
          "text": [
            "+------+----------+----------+--------+---------+---------------+------------+-------+---------+-----+----------+-----------+-----------+------------+-----------+-------+---------+-------+---------+-------+-------+--------+---------+----------+-------------+-----------+------+---------+---------+-------+--------------+-------------+--------------+\n",
            "|    ID|Height(CM)|Weight(KG)|Crossing|Finishing|HeadingAccuracy|ShortPassing|Volleys|Dribbling|Curve|FKAccuracy|LongPassing|BallControl|Acceleration|SprintSpeed|Agility|Reactions|Balance|ShotPower|Jumping|Stamina|Strength|LongShots|Aggression|Interceptions|Positioning|Vision|Penalties|Composure|Marking|StandingTackle|SlidingTackle|Position_Group|\n",
            "+------+----------+----------+--------+---------+---------------+------------+-------+---------+-----+----------+-----------+-----------+------------+-----------+-------+---------+-------+---------+-------+-------+--------+---------+----------+-------------+-----------+------+---------+---------+-------+--------------+-------------+--------------+\n",
            "|158023|   173.736| 72.121128|      84|       95|             70|          90|     86|       97|   93|        94|         87|         96|          91|         86|     91|       95|     95|       85|     68|     72|      59|       94|        48|           22|         94|    94|       75|       96|     33|            28|           26|           FWD|\n",
            "| 20801|   188.976| 83.007336|      84|       94|             89|          81|     87|       88|   81|        76|         77|         94|          89|         91|     87|       96|     70|       95|     95|     88|      79|       93|        63|           29|         95|    82|       85|       95|     28|            31|           23|           FWD|\n",
            "|190871|   179.832|   68.0388|      79|       87|             62|          84|     84|       96|   88|        87|         78|         95|          94|         90|     96|       94|     84|       80|     61|     81|      49|       82|        56|           36|         89|    87|       81|       94|     27|            24|           33|           FWD|\n",
            "|192985|  155.7528| 69.853168|      93|       82|             55|          92|     82|       86|   85|        83|         91|         91|          78|         76|     79|       91|     77|       91|     63|     90|      75|       91|        76|           61|         87|    94|       79|       88|     68|            58|           51|           MID|\n",
            "|183277|   176.784| 73.935496|      81|       84|             61|          89|     80|       95|   83|        79|         83|         94|          94|         88|     95|       90|     94|       82|     56|     83|      66|       80|        54|           41|         87|    89|       86|       91|     34|            27|           22|           FWD|\n",
            "|177003|   176.784| 66.224432|      86|       72|             55|          93|     76|       90|   85|        78|         88|         93|          80|         72|     93|       90|     94|       79|     68|     89|      58|       82|        62|           83|         79|    92|       82|       84|     60|            76|           73|           MID|\n",
            "|176580|    182.88|  86.18248|      77|       93|             77|          82|     88|       87|   86|        84|         64|         90|          86|         75|     82|       92|     83|       86|     69|     90|      83|       85|        87|           41|         92|    84|       85|       85|     62|            45|           38|           FWD|\n",
            "|155862|    182.88| 82.100152|      66|       60|             91|          78|     66|       63|   74|        72|         77|         84|          76|         75|     78|       85|     66|       79|     93|     84|      83|       59|        88|           90|         60|    63|       75|       82|     87|            92|           91|           DEF|\n",
            "|188545|    182.88| 79.832192|      62|       91|             85|          83|     89|       85|   77|        86|         65|         89|          77|         78|     78|       90|     78|       88|     84|     78|      84|       84|        80|           39|         91|    77|       88|       86|     34|            42|           19|           FWD|\n",
            "|182521|    182.88| 76.203456|      88|       76|             54|          92|     82|       81|   86|        84|         93|         90|          64|         62|     70|       89|     71|       87|     30|     75|      73|       92|        60|           82|         79|    86|       73|       85|     72|            79|           69|           MID|\n",
            "|182493|   188.976| 78.017824|      55|       42|             92|          79|     47|       53|   49|        51|         70|         76|          68|         68|     58|       85|     54|       67|     91|     66|      88|       43|        89|           88|         48|    52|       50|       82|     90|            89|           89|           DEF|\n",
            "|168542|   176.784| 67.131616|      84|       76|             54|          93|     82|       89|   82|        77|         87|         94|          70|         64|     92|       90|     90|       72|     64|     78|      52|       75|        57|           50|         89|    92|       75|       93|     59|            53|           29|           MID|\n",
            "|215914|   170.688| 72.121128|      68|       65|             54|          86|     56|       79|   49|        49|         81|         80|          82|         78|     82|       93|     92|       71|     77|     96|      76|       69|        90|           92|         71|    79|       54|       85|     90|            91|           85|           MID|\n",
            "|211110|   155.448|  74.84268|      82|       84|             68|          87|     88|       92|   88|        88|         75|         92|          87|         83|     91|       86|     85|       82|     75|     80|      65|       88|        48|           32|         84|    87|       86|       84|     23|            20|           20|           FWD|\n",
            "|202126|   188.976| 88.904032|      75|       94|             85|          80|     84|       80|   78|        68|         82|         84|          68|         72|     71|       91|     71|       88|     78|     89|      84|       85|        76|           35|         93|    80|       90|       89|     56|            36|           38|           FWD|\n",
            "|194765|   179.832| 73.028312|      82|       90|             84|          83|     87|       88|   84|        78|         76|         90|          88|         85|     90|       90|     80|       80|     90|     83|      62|       82|        69|           35|         91|    83|       79|       87|     59|            47|           48|           MID|\n",
            "|189511|   188.976| 76.203456|      62|       67|             68|          89|     44|       80|   66|        68|         82|         88|          50|         52|     66|       87|     52|       61|     66|     86|      77|       54|        85|           87|         77|    87|       60|       90|     90|            86|           80|           MID|\n",
            "|179813|   185.928|  77.11064|      70|       89|             89|          78|     90|       80|   77|        76|         52|         82|          75|         76|     77|       91|     59|       87|     88|     92|      78|       79|        84|           48|         93|    77|       85|       82|     52|            45|           39|           FWD|\n",
            "|153079|   176.784| 69.853168|      70|       93|             77|          81|     85|       89|   82|        73|         64|         89|          88|         80|     86|       90|     91|       88|     81|     76|      73|       83|        65|           24|         92|    83|       83|       90|     30|            20|           12|           FWD|\n",
            "|138956|   188.976| 84.821704|      58|       33|             83|          59|     45|       58|   60|        31|         59|         57|          63|         75|     54|       82|     55|       78|     89|     65|      89|       49|        92|           88|         28|    50|       50|       84|     93|            93|           90|           DEF|\n",
            "+------+----------+----------+--------+---------+---------------+------------+-------+---------+-----+----------+-----------+-----------+------------+-----------+-------+---------+-------+---------+-------+-------+--------+---------+----------+-------------+-----------+------+---------+---------+-------+--------------+-------------+--------------+\n",
            "only showing top 20 rows\n",
            "\n"
          ],
          "name": "stdout"
        }
      ]
    },
    {
      "cell_type": "markdown",
      "metadata": {
        "colab_type": "text",
        "id": "R-NyFp7IBtGZ"
      },
      "source": [
        "Now, we remove the Position_Group and Position to create the feature for Kmeans\n",
        "\n",
        "\n"
      ]
    },
    {
      "cell_type": "code",
      "metadata": {
        "colab_type": "code",
        "id": "2x_o_w54B-mN",
        "outputId": "619e773e-0f8b-4a1f-8f10-6b6f4ed53630",
        "colab": {
          "base_uri": "https://localhost:8080/",
          "height": 170
        }
      },
      "source": [
        "from pyspark.ml.clustering import KMeans\n",
        "from pyspark.ml.feature import VectorAssembler\n",
        "\n",
        "#We select the specific features to FEATURED_COL\n",
        "FEATURES_COL = ['Height(CM)', 'Weight(KG)', \n",
        "                      'Crossing', 'Finishing', 'HeadingAccuracy', \n",
        "                      'ShortPassing', 'Volleys', 'Dribbling', 'Curve',\n",
        "                      'FKAccuracy', 'LongPassing', 'BallControl', \n",
        "                      'Acceleration', 'SprintSpeed', 'Agility', \n",
        "                      'Reactions', 'Balance', 'ShotPower', 'Jumping', \n",
        "                      'Stamina', 'Strength', 'LongShots', 'Aggression', \n",
        "                      'Interceptions', 'Positioning', 'Vision', 'Penalties', \n",
        "                      'Composure', 'Marking', 'StandingTackle', 'SlidingTackle']\n",
        "\n",
        "#Vector assembler is a transformer which takes all of the columns specified under FEATURES_COL and combines them into a new vector column.\n",
        "vecAssembler = VectorAssembler(inputCols=FEATURES_COL, outputCol=\"features\")\n",
        "\n",
        "\n",
        "#We need to store all features as an array of floats, and store this array as a column called \"features\". Since we do no longer need the original columns we filter them out with a select statement.\n",
        "#Creating a new vector column \"features\"\n",
        "df_kmeans_ = vecAssembler.transform(df_kmeans_new).select('ID','features')\n",
        "df_kmeans_.show(3)"
      ],
      "execution_count": 0,
      "outputs": [
        {
          "output_type": "stream",
          "text": [
            "+------+--------------------+\n",
            "|    ID|            features|\n",
            "+------+--------------------+\n",
            "|158023|[173.736,72.12112...|\n",
            "| 20801|[188.976,83.00733...|\n",
            "|190871|[179.832,68.0388,...|\n",
            "+------+--------------------+\n",
            "only showing top 3 rows\n",
            "\n"
          ],
          "name": "stdout"
        }
      ]
    },
    {
      "cell_type": "markdown",
      "metadata": {
        "colab_type": "text",
        "id": "UniVGeYIDa_k"
      },
      "source": [
        "Now in order to evaluate your Kmeans Model, please plot the elbow plot\n",
        "\n",
        "\n",
        "<div class=\"alert alert-block alert-info\">\n",
        "\n",
        "**Code**: \n",
        "    You are required to plot the elbow plot, with a varying K from 2 to 20.\n",
        "\n",
        "<div class=\"alert alert-block alert-warning\">\n",
        "    \n",
        "**Report**: \n",
        "    **2.1** In your report with proper section title  '2.1', Please include the elbow plot. \n",
        "\n",
        "</div>\n",
        "</div>\n",
        "\n"
      ]
    },
    {
      "cell_type": "code",
      "metadata": {
        "colab_type": "code",
        "id": "UDia7JYyDLhg",
        "outputId": "7b8b305a-2c0e-4777-8584-84c24b4159d3",
        "colab": {
          "base_uri": "https://localhost:8080/",
          "height": 340
        }
      },
      "source": [
        "#k-means clustering is a method of vector quantization\n",
        "#Performing k means clustering uses ID and vectorized columns from df_kmeans_ \n",
        "from pyspark.ml.evaluation import ClusteringEvaluator\n",
        "import numpy as np\n",
        "\n",
        "'''\n",
        "Code Reference: https://spark.apache.org/docs/2.2.0/ml-clustering.html#output-columns\n",
        "'''\n",
        "cost = np.zeros(21)\n",
        "\n",
        "for k in range(2,21):\n",
        "\n",
        "  # Trains a k-means model.\n",
        "  kmeans = KMeans().setK(k).setFeaturesCol(\"features\").setSeed(1)\n",
        "  model = kmeans.fit(df_kmeans_)\n",
        "  \n",
        "  #Evaluate clustering by computing Within Set Sum of Squared Errors.\n",
        "  cost[k] = model.computeCost(df_kmeans_)\n",
        "  print(\"Within Set Sum of Squared Errors = \" + str(cost[k]))\n",
        "  "
      ],
      "execution_count": 0,
      "outputs": [
        {
          "output_type": "stream",
          "text": [
            "Within Set Sum of Squared Errors = 67058646.9558278\n",
            "Within Set Sum of Squared Errors = 53031866.155392915\n",
            "Within Set Sum of Squared Errors = 48758334.59110524\n",
            "Within Set Sum of Squared Errors = 44337975.371917725\n",
            "Within Set Sum of Squared Errors = 42193239.59105987\n",
            "Within Set Sum of Squared Errors = 40251049.58504104\n",
            "Within Set Sum of Squared Errors = 38950427.49213952\n",
            "Within Set Sum of Squared Errors = 37127641.98059367\n",
            "Within Set Sum of Squared Errors = 36244129.31306243\n",
            "Within Set Sum of Squared Errors = 35599956.97193515\n",
            "Within Set Sum of Squared Errors = 34940214.01414501\n",
            "Within Set Sum of Squared Errors = 34143985.612030484\n",
            "Within Set Sum of Squared Errors = 33764930.84182901\n",
            "Within Set Sum of Squared Errors = 33061013.46015743\n",
            "Within Set Sum of Squared Errors = 32555911.05973738\n",
            "Within Set Sum of Squared Errors = 32328703.295462158\n",
            "Within Set Sum of Squared Errors = 32062594.562362324\n",
            "Within Set Sum of Squared Errors = 31535147.60443827\n",
            "Within Set Sum of Squared Errors = 31339566.342239458\n"
          ],
          "name": "stdout"
        }
      ]
    },
    {
      "cell_type": "code",
      "metadata": {
        "colab_type": "code",
        "id": "Mr-bSnj5EA1l",
        "outputId": "905bd6d3-19f3-4647-d561-51b7268e950b",
        "colab": {
          "base_uri": "https://localhost:8080/",
          "height": 431
        }
      },
      "source": [
        "#To optimize k we cluster a fraction of the data for different choices of k and look for an \"elbow\" in the cost function.\n",
        "import numpy as np\n",
        "import matplotlib.mlab as mlab\n",
        "import matplotlib.pyplot as plt\n",
        "import seaborn as sbs\n",
        "from matplotlib.ticker import MaxNLocator\n",
        "\n",
        "'''\n",
        "Code Reference: https://runawayhorse001.github.io/LearningApacheSpark/clustering.html\n",
        "'''\n",
        "\n",
        "#Plotting the elbow curve \n",
        "#Total within sum of squares VS the k value\n",
        "fig, ax = plt.subplots(1,1, figsize =(8,6))\n",
        "fig.suptitle(\"Sum of square errors versus K values\")\n",
        "ax.plot(range(2,20),cost[2:20])\n",
        "ax.set_xlabel('k')\n",
        "ax.set_ylabel('cost')\n",
        "ax.xaxis.set_major_locator(MaxNLocator(integer=True))\n",
        "plt.show()\n",
        "\n",
        "#From this curve, the bend of the curve, accounting for the highest difference between adjacent totwss, and hence k = 8"
      ],
      "execution_count": 0,
      "outputs": [
        {
          "output_type": "display_data",
          "data": {
            "image/png": "[encoded data removed]",
            "text/plain": [
              "<Figure size 576x432 with 1 Axes>"
            ]
          },
          "metadata": {
            "tags": [],
            "needs_background": "light"
          }
        }
      ]
    },
    {
      "cell_type": "markdown",
      "metadata": {
        "colab_type": "text",
        "id": "XupecQFHE5Za"
      },
      "source": [
        "\n",
        "### 2.2 K-Means\n",
        "\n",
        "Could you tell out the optimized K value? \n",
        "\n",
        "\n",
        "\n",
        "\n",
        "****\n",
        "\n",
        "<div class=\"alert alert-block alert-info\">\n",
        "\n",
        "**Code**: \n",
        "    You are required to choose a K value as 8 and then summarize each cluster with the count on each Position_Group.\n",
        "\n",
        "<div class=\"alert alert-block alert-warning\">\n",
        "    \n",
        "**Report**: \n",
        "    **2.2** In your report with proper section title  '2.2', Please summarize the following:     \n",
        "    <ol>\n",
        "        <li> What you could find from those clusters (by cluster central point)? </li>\n",
        "        <li> Is there relationship between Position_Group and a particular Cluster?</li>\n",
        "    </ol>\n",
        "\n",
        "</div>\n",
        "</div>\n",
        "\n",
        "\n"
      ]
    },
    {
      "cell_type": "code",
      "metadata": {
        "colab_type": "code",
        "id": "LxSOxcowE6vB",
        "outputId": "2c548d42-dd44-433e-8397-32f29b2ae125",
        "colab": {
          "base_uri": "https://localhost:8080/",
          "height": 1000
        }
      },
      "source": [
        "#Optimizing the k means clustering with k=8\n",
        "from pyspark.ml.evaluation import ClusteringEvaluator\n",
        "\n",
        "'''\n",
        "Code Reference: https://www.bmc.com/blogs/python-spark-k-means-example/\n",
        "'''\n",
        "\n",
        "k = 8\n",
        "\n",
        " # Trains a k-means model with the optimized k number\n",
        "kmeans1 = KMeans().setK(8).setSeed(1).setFeaturesCol(\"features\")\n",
        "model1 = kmeans1.fit(df_kmeans_)\n",
        "centers = model1.clusterCenters()\n",
        "\n",
        "#Once the training has converged we can print out the centroids of the 8 clusters.\n",
        "print(\"Cluster Centers: \")\n",
        "for center in centers:\n",
        "    print(center)\n",
        "\n",
        "#Assigning the individual rows to the nearest cluster centroid using transform method, \n",
        "#which adds 'prediction' column to the dataframe. The prediction value is an integer between 0 and k.\n",
        "transformed_data = model1.transform(df_kmeans_)\n",
        "\n",
        "# Evaluate clustering by computing Silhouette score\n",
        "evaluator = ClusteringEvaluator()\n",
        "\n",
        "silhouette = evaluator.evaluate(transformed_data)\n",
        "print(\"Silhouette with squared euclidean distance = \" + str(silhouette))\n",
        "\n",
        "# Evaluate clustering.\n",
        "cost_k8 = model.computeCost(df_kmeans_)\n",
        "print(\"Within Set Sum of Squared Errors = \" + str(cost_k8))\n",
        "\n",
        "#selecting only the specific columns from transformed_data \n",
        "transformed = transformed_data.select('ID', 'Prediction')\n",
        "rows = transformed.collect()\n",
        "print(rows[:3])\n",
        "\n"
      ],
      "execution_count": 0,
      "outputs": [
        {
          "output_type": "stream",
          "text": [
            "Cluster Centers: \n",
            "[177.3317464   76.31794486  58.41639945  44.02061383  62.79111315\n",
            "  67.3220339   42.5387082   61.02611086  52.17911131  46.79294549\n",
            "  63.5510765   65.5758131   65.25240495  66.06596427  64.62757673\n",
            "  66.20568026  64.10581768  62.28263857  70.52038479  73.82638571\n",
            "  72.67384333  52.59688502  71.43426477  67.65048099  53.27072836\n",
            "  57.47457627  48.97938617  64.57627119  66.67155291  68.96472744\n",
            "  66.88914338]\n",
            "[187.68026262  81.70680941  39.8684377   30.21252372  68.72675522\n",
            "  59.71600253  31.19354839  44.54332701  34.72485769  33.42631246\n",
            "  54.99114485  55.46110057  53.19481341  55.6059456   50.15876028\n",
            "  62.97975965  50.6116382   51.14231499  68.34977862  64.29095509\n",
            "  79.52941176  34.24351676  70.56799494  67.06388362  33.600253\n",
            "  41.73561037  41.05566097  61.12903226  67.29411765  69.6116382\n",
            "  66.76533839]\n",
            "[172.46617578  73.21508518  65.18944637  68.70069204  57.79541522\n",
            "  69.00043253  64.56055363  73.22923875  67.01859862  61.3399654\n",
            "  60.86245675  72.86548443  76.23096886  75.48442907  76.85856401\n",
            "  68.82093426  73.3416955   71.57871972  66.4217128   69.08953287\n",
            "  63.61937716  67.48788927  56.35856401  35.85250865  70.45458478\n",
            "  67.55363322  65.27032872  68.70804498  36.98140138  34.27465398\n",
            "  30.68425606]\n",
            "[179.48039466  76.0082903   36.06083086  24.84124629  55.70029674\n",
            "  47.25816024  27.14169139  39.07121662  29.75296736  28.67655786\n",
            "  39.29896142  45.00667656  60.3189911   60.53189911  53.30267062\n",
            "  53.134273    59.04154303  38.19065282  67.60089021  60.8805638\n",
            "  67.21216617  25.61053412  57.08234421  56.22922849  31.92062315\n",
            "  34.70697329  36.51632047  47.67507418  57.19139466  60.84718101\n",
            "  58.89836795]\n",
            "[171.83121978  73.63665232  67.45570663  58.56901525  58.09394314\n",
            "  72.50432633  57.66131026  70.06098063  66.77997528  62.4223321\n",
            "  69.03461063  72.1223733   69.90688092  69.05644829  71.96744953\n",
            "  69.5434693   71.48413679  70.77832715  67.38648537  75.37206428\n",
            "  67.24639473  66.29377833  68.8170581   66.05274001  65.21137206\n",
            "  68.49938195  59.71693449  69.01771735  63.46147507  66.48413679\n",
            "  63.407911  ]\n",
            "[170.91016533  69.059326    55.29234568  55.09580247  43.15901235\n",
            "  60.04740741  48.40049383  64.16888889  52.72395062  46.47061728\n",
            "  53.46666667  62.81580247  74.15802469  73.06765432  72.88296296\n",
            "  54.81975309  74.18222222  58.15407407  57.08493827  59.05530864\n",
            "  50.88        51.04098765  42.44888889  30.00395062  56.25580247\n",
            "  56.67012346  52.63111111  55.06469136  35.40345679  33.6108642\n",
            "  32.67061728]\n",
            "[179.04405592  77.27376948  41.5253664   64.62852311  62.52367531\n",
            "  54.67080045  54.12401353  60.1572717   45.93179256  38.34892897\n",
            "  40.62514092  61.22886133  67.10372041  68.4475761   63.3934611\n",
            "  58.98816234  61.21364149  63.87373168  66.86583991  62.50281849\n",
            "  69.78015784  56.90078918  48.6854566   22.34441939  62.61555806\n",
            "  51.56313416  61.20744081  56.67080045  27.09244645  21.86414882\n",
            "  19.75479143]\n",
            "[170.42364272  71.65120522  54.40978964  39.52872168  51.07605178\n",
            "  60.99029126  37.06432039  58.46197411  45.36407767  40.24959547\n",
            "  55.51173139  59.90978964  69.55987055  69.1565534   67.27548544\n",
            "  58.08859223  69.60679612  50.26456311  64.68608414  67.79652104\n",
            "  60.88754045  42.32686084  59.25444984  56.58576052  50.67435275\n",
            "  51.5262945   43.85234628  53.67677994  56.21480583  59.43891586\n",
            "  57.93082524]\n",
            "Silhouette with squared euclidean distance = 0.22703850068193424\n",
            "Within Set Sum of Squared Errors = 31339566.342239458\n",
            "[Row(ID=158023, Prediction=2), Row(ID=20801, Prediction=2), Row(ID=190871, Prediction=2)]\n"
          ],
          "name": "stdout"
        }
      ]
    },
    {
      "cell_type": "code",
      "metadata": {
        "colab_type": "code",
        "id": "AkWZ5-6oFlpp",
        "outputId": "61f77923-1c19-4e28-c8c3-7e40cdc5f7b1",
        "colab": {
          "base_uri": "https://localhost:8080/",
          "height": 751
        }
      },
      "source": [
        "#create a new dataframe using our SQL context\n",
        "from pyspark.sql import SQLContext\n",
        "sqlContext = SQLContext(spark)\n",
        "\n",
        "df_pred = sqlContext.createDataFrame(rows)\n",
        "df_pred.show()\n",
        "\n",
        "\n",
        "#Joining the two dataframes df_pred and df_kmeans_new on the 'ID' column\n",
        "df_kmeans_pred_ = df_pred.join(df_kmeans_new, 'ID')\n",
        "\n",
        "\n",
        "#Changing the column name \"Prediction\" to \"Cluster\"\n",
        "df_kmeans_pred_ = df_kmeans_pred_.withColumnRenamed('Prediction', 'Cluster')\n",
        "\n",
        "df_kmeans_pred_.show(10)\n"
      ],
      "execution_count": 0,
      "outputs": [
        {
          "output_type": "stream",
          "text": [
            "+------+----------+\n",
            "|    ID|Prediction|\n",
            "+------+----------+\n",
            "|158023|         2|\n",
            "| 20801|         2|\n",
            "|190871|         2|\n",
            "|192985|         4|\n",
            "|183277|         2|\n",
            "|177003|         4|\n",
            "|176580|         2|\n",
            "|155862|         4|\n",
            "|188545|         2|\n",
            "|182521|         4|\n",
            "|182493|         0|\n",
            "|168542|         2|\n",
            "|215914|         4|\n",
            "|211110|         2|\n",
            "|202126|         2|\n",
            "|194765|         2|\n",
            "|189511|         4|\n",
            "|179813|         2|\n",
            "|153079|         2|\n",
            "|138956|         0|\n",
            "+------+----------+\n",
            "only showing top 20 rows\n",
            "\n",
            "+------+-------+----------+----------+--------+---------+---------------+------------+-------+---------+-----+----------+-----------+-----------+------------+-----------+-------+---------+-------+---------+-------+-------+--------+---------+----------+-------------+-----------+------+---------+---------+-------+--------------+-------------+--------------+\n",
            "|    ID|Cluster|Height(CM)|Weight(KG)|Crossing|Finishing|HeadingAccuracy|ShortPassing|Volleys|Dribbling|Curve|FKAccuracy|LongPassing|BallControl|Acceleration|SprintSpeed|Agility|Reactions|Balance|ShotPower|Jumping|Stamina|Strength|LongShots|Aggression|Interceptions|Positioning|Vision|Penalties|Composure|Marking|StandingTackle|SlidingTackle|Position_Group|\n",
            "+------+-------+----------+----------+--------+---------+---------------+------------+-------+---------+-----+----------+-----------+-----------+------------+-----------+-------+---------+-------+---------+-------+-------+--------+---------+----------+-------------+-----------+------+---------+---------+-------+--------------+-------------+--------------+\n",
            "|158023|      2|   173.736| 72.121128|      84|       95|             70|          90|     86|       97|   93|        94|         87|         96|          91|         86|     91|       95|     95|       85|     68|     72|      59|       94|        48|           22|         94|    94|       75|       96|     33|            28|           26|           FWD|\n",
            "| 20801|      2|   188.976| 83.007336|      84|       94|             89|          81|     87|       88|   81|        76|         77|         94|          89|         91|     87|       96|     70|       95|     95|     88|      79|       93|        63|           29|         95|    82|       85|       95|     28|            31|           23|           FWD|\n",
            "|190871|      2|   179.832|   68.0388|      79|       87|             62|          84|     84|       96|   88|        87|         78|         95|          94|         90|     96|       94|     84|       80|     61|     81|      49|       82|        56|           36|         89|    87|       81|       94|     27|            24|           33|           FWD|\n",
            "|192985|      4|  155.7528| 69.853168|      93|       82|             55|          92|     82|       86|   85|        83|         91|         91|          78|         76|     79|       91|     77|       91|     63|     90|      75|       91|        76|           61|         87|    94|       79|       88|     68|            58|           51|           MID|\n",
            "|183277|      2|   176.784| 73.935496|      81|       84|             61|          89|     80|       95|   83|        79|         83|         94|          94|         88|     95|       90|     94|       82|     56|     83|      66|       80|        54|           41|         87|    89|       86|       91|     34|            27|           22|           FWD|\n",
            "|177003|      4|   176.784| 66.224432|      86|       72|             55|          93|     76|       90|   85|        78|         88|         93|          80|         72|     93|       90|     94|       79|     68|     89|      58|       82|        62|           83|         79|    92|       82|       84|     60|            76|           73|           MID|\n",
            "|176580|      2|    182.88|  86.18248|      77|       93|             77|          82|     88|       87|   86|        84|         64|         90|          86|         75|     82|       92|     83|       86|     69|     90|      83|       85|        87|           41|         92|    84|       85|       85|     62|            45|           38|           FWD|\n",
            "|155862|      4|    182.88| 82.100152|      66|       60|             91|          78|     66|       63|   74|        72|         77|         84|          76|         75|     78|       85|     66|       79|     93|     84|      83|       59|        88|           90|         60|    63|       75|       82|     87|            92|           91|           DEF|\n",
            "|188545|      2|    182.88| 79.832192|      62|       91|             85|          83|     89|       85|   77|        86|         65|         89|          77|         78|     78|       90|     78|       88|     84|     78|      84|       84|        80|           39|         91|    77|       88|       86|     34|            42|           19|           FWD|\n",
            "|182521|      4|    182.88| 76.203456|      88|       76|             54|          92|     82|       81|   86|        84|         93|         90|          64|         62|     70|       89|     71|       87|     30|     75|      73|       92|        60|           82|         79|    86|       73|       85|     72|            79|           69|           MID|\n",
            "+------+-------+----------+----------+--------+---------+---------------+------------+-------+---------+-----+----------+-----------+-----------+------------+-----------+-------+---------+-------+---------+-------+-------+--------+---------+----------+-------------+-----------+------+---------+---------+-------+--------------+-------------+--------------+\n",
            "only showing top 10 rows\n",
            "\n"
          ],
          "name": "stdout"
        }
      ]
    },
    {
      "cell_type": "code",
      "metadata": {
        "id": "V8TtvGsIzWPN",
        "colab_type": "code",
        "outputId": "da159f86-e703-4784-e217-7a6485c0d7d7",
        "colab": {
          "base_uri": "https://localhost:8080/",
          "height": 724
        }
      },
      "source": [
        "#Finding the counts of Position group under each cluster\n",
        "count_on_clusters = df_kmeans_pred_.groupBy(['Position_Group','Cluster']).count()\n",
        "count_on_clusters.show()\n",
        "\n",
        "#Defining the cluster cordinates \n",
        "MID = np.array([967, 117, 1195, 77, 1720, 1486, 0, 1141])\n",
        "DEF = np.array([1230, 1462, 4, 1266, 599, 8, 0, 0])\n",
        "FWD = np.array([11,0,1112,1,71,535,1648,28])\n",
        "ind = np.arange(len(MID))  # the x locations for the groups\n",
        "width = 0.35       # the width of the bars: can also be len(x) sequence\n",
        "\n",
        "#Defining the bars\n",
        "p1 = plt.bar(ind, MID, width)\n",
        "p2 = plt.bar(ind, DEF, width,bottom=MID)\n",
        "p3 = plt.bar(ind, FWD, width,bottom=DEF)\n",
        "\n",
        "\n",
        "plt.ylabel('Counts')\n",
        "plt.title('Counts on each cluster')\n",
        "plt.xticks(ind, ('cls_0', 'cls_1', 'cls_2', 'cls_3', 'cls_4', 'cls_5', 'cls_6', 'cls_7'))\n",
        "#plt.yticks(np.arange(0, 5000))\n",
        "plt.legend((p1[0], p2[0], p3[0]), ('MID', 'DEF', 'FWD'))\n",
        "plt.show()\n",
        "\n"
      ],
      "execution_count": 0,
      "outputs": [
        {
          "output_type": "stream",
          "text": [
            "+--------------+-------+-----+\n",
            "|Position_Group|Cluster|count|\n",
            "+--------------+-------+-----+\n",
            "|           MID|      4| 1720|\n",
            "|           MID|      1|  117|\n",
            "|           MID|      7| 1141|\n",
            "|           DEF|      5|    8|\n",
            "|           MID|      0|  967|\n",
            "|           DEF|      4|  599|\n",
            "|           DEF|      3| 1266|\n",
            "|           MID|      3|   77|\n",
            "|           FWD|      2| 1112|\n",
            "|           DEF|      0| 1230|\n",
            "|           FWD|      3|    1|\n",
            "|           FWD|      4|   71|\n",
            "|           MID|      2| 1195|\n",
            "|           DEF|      1| 1462|\n",
            "|           FWD|      5|  535|\n",
            "|           DEF|      2|    4|\n",
            "|           FWD|      6| 1648|\n",
            "|           FWD|      7|   38|\n",
            "|           FWD|      0|   11|\n",
            "|           MID|      5| 1486|\n",
            "+--------------+-------+-----+\n",
            "only showing top 20 rows\n",
            "\n"
          ],
          "name": "stdout"
        },
        {
          "output_type": "display_data",
          "data": {
            "image/png": "[encoded data removed]",
            "text/plain": [
              "<Figure size 432x288 with 1 Axes>"
            ]
          },
          "metadata": {
            "tags": [],
            "needs_background": "light"
          }
        }
      ]
    },
    {
      "cell_type": "markdown",
      "metadata": {
        "colab_type": "text",
        "id": "IiHEevY6IOJz"
      },
      "source": [
        "## Part 3 - Supervised Learning: Classification on Position_Group\n",
        "\n",
        "<a id=\"classification\"></a>\n",
        "***\n",
        "\n",
        "In last part, you use the player's skill set values to segment the players into 8 clusters. Now we want to see whether we could accurately predict the position_group of the player.\n",
        "\n",
        "*Remind: You must only use **PySpark** to complete the following data processing and model building. Otherwise, you lose all marks.*\n",
        "\n",
        "\n",
        "### 3.1 Data Preparation\n",
        "\n",
        "We remove the feature of position and only use the skill set features and the cluster results from Kmeans as the input (you need to create a column for your cluster results and name it as Cluster) for the model. Your target for classification is \"Position_Group\"."
      ]
    },
    {
      "cell_type": "code",
      "metadata": {
        "colab_type": "code",
        "id": "PwtsyrUsI8e_",
        "outputId": "9549c8d9-45ed-4456-a8d5-ceaa169b7853",
        "colab": {
          "base_uri": "https://localhost:8080/",
          "height": 186
        }
      },
      "source": [
        "#define features column\n",
        "FEATURES_COL_ = ['Height(CM)', 'Weight(KG)', \n",
        "                      'Crossing', 'Finishing', 'HeadingAccuracy', \n",
        "                      'ShortPassing', 'Volleys', 'Dribbling', 'Curve',\n",
        "                      'FKAccuracy', 'LongPassing', 'BallControl', \n",
        "                      'Acceleration', 'SprintSpeed', 'Agility', \n",
        "                      'Reactions', 'Balance', 'ShotPower', 'Jumping', \n",
        "                      'Stamina', 'Strength', 'LongShots', 'Aggression', \n",
        "                      'Interceptions', 'Positioning', 'Vision', 'Penalties', \n",
        "                      'Composure', 'Marking', 'StandingTackle', 'SlidingTackle','Cluster']\n",
        "\n",
        "#initialise a vector assembler \n",
        "vecAssembler_ = VectorAssembler(inputCols=FEATURES_COL_, outputCol=\"features\")\n",
        "#transform df_kmeans_pred_\n",
        "df_class_ = vecAssembler_.transform(df_kmeans_pred_).select('features','Position_Group')\n",
        "#show top 3 classes\n",
        "df_class_.show(3)"
      ],
      "execution_count": 0,
      "outputs": [
        {
          "output_type": "stream",
          "text": [
            "+--------------------+--------------+\n",
            "|            features|Position_Group|\n",
            "+--------------------+--------------+\n",
            "|[173.736,72.12112...|           FWD|\n",
            "|[188.976,83.00733...|           FWD|\n",
            "|[179.832,68.0388,...|           FWD|\n",
            "+--------------------+--------------+\n",
            "only showing top 3 rows\n",
            "\n"
          ],
          "name": "stdout"
        }
      ]
    },
    {
      "cell_type": "markdown",
      "metadata": {
        "colab_type": "text",
        "id": "AklN81TvMKJS"
      },
      "source": [
        "In many data science modelling work, feature scaling is very important.\n",
        "In here, we use standard scaling on the features."
      ]
    },
    {
      "cell_type": "code",
      "metadata": {
        "colab_type": "code",
        "id": "pjQRAHOQMK6V",
        "outputId": "415674ad-91fd-40ee-cc26-2b3510e29035",
        "colab": {
          "base_uri": "https://localhost:8080/",
          "height": 223
        }
      },
      "source": [
        "#import required feature scaler library\n",
        "from pyspark.ml.feature import StandardScaler\n",
        "#define scaler\n",
        "standardscaler=StandardScaler().setInputCol(\"features\").setOutputCol(\"Scaled_features\")\n",
        "#fit data to scaler\n",
        "raw_data=standardscaler.fit(df_class_).transform(df_class_)\n",
        "#show first 5 data\n",
        "raw_data.select(\"features\",\"Scaled_features\",'Position_Group').show(5)"
      ],
      "execution_count": 0,
      "outputs": [
        {
          "output_type": "stream",
          "text": [
            "+--------------------+--------------------+--------------+\n",
            "|            features|     Scaled_features|Position_Group|\n",
            "+--------------------+--------------------+--------------+\n",
            "|[173.736,72.12112...|[12.9261363965246...|           FWD|\n",
            "|[188.976,83.00733...|[14.0600080102548...|           FWD|\n",
            "|[179.832,68.0388,...|[13.3796850420166...|           FWD|\n",
            "|[155.7528,69.8531...|[11.5881678923229...|           MID|\n",
            "|[176.784,73.93549...|[13.1529107192706...|           FWD|\n",
            "+--------------------+--------------------+--------------+\n",
            "only showing top 5 rows\n",
            "\n"
          ],
          "name": "stdout"
        }
      ]
    },
    {
      "cell_type": "markdown",
      "metadata": {
        "colab_type": "text",
        "id": "DD6wgq2sgiGk"
      },
      "source": [
        "In Spark, you could not use string as Target data type, Please encode the Position_Group column by using following encoding: \n",
        "\n",
        "FWD = 0\n",
        "DEF = 1\n",
        "MID = 2\n",
        "\n",
        "*Hint: Data type after encoding should be numeric.*"
      ]
    },
    {
      "cell_type": "code",
      "metadata": {
        "colab_type": "code",
        "id": "OosmFX9iOc0Z",
        "outputId": "eb96120f-2536-4c7a-91b5-7b60a4526a7e",
        "colab": {
          "base_uri": "https://localhost:8080/",
          "height": 223
        }
      },
      "source": [
        "#encode string data\n",
        "raw_data_ = raw_data.withColumn('Target',when(col(\"Position_Group\") == \"DEF\", 1)\n",
        "      .when(col(\"Position_Group\")== \"FWD\", 0)\n",
        "      .otherwise(2))\n",
        "#show first 5 encoded target data\n",
        "raw_data_.show(5)"
      ],
      "execution_count": 0,
      "outputs": [
        {
          "output_type": "stream",
          "text": [
            "+--------------------+--------------+--------------------+------+\n",
            "|            features|Position_Group|     Scaled_features|Target|\n",
            "+--------------------+--------------+--------------------+------+\n",
            "|[173.736,72.12112...|           FWD|[12.9261363965246...|     0|\n",
            "|[188.976,83.00733...|           FWD|[14.0600080102548...|     0|\n",
            "|[179.832,68.0388,...|           FWD|[13.3796850420166...|     0|\n",
            "|[155.7528,69.8531...|           MID|[11.5881678923229...|     2|\n",
            "|[176.784,73.93549...|           FWD|[13.1529107192706...|     0|\n",
            "+--------------------+--------------+--------------------+------+\n",
            "only showing top 5 rows\n",
            "\n"
          ],
          "name": "stdout"
        }
      ]
    },
    {
      "cell_type": "markdown",
      "metadata": {
        "colab_type": "text",
        "id": "NDfZARUNMW2M"
      },
      "source": [
        "### 3.2 Training Test Evaluation\n",
        "\n",
        "We remove the feature of position and use all other skill set features and the cluster results as the input for the model. The target for classification is \"Position_Group\".\n",
        "\n",
        "Now, we split your data into train/Test, and evaluate one model's performance."
      ]
    },
    {
      "cell_type": "code",
      "metadata": {
        "colab_type": "code",
        "id": "MmbanmwBMUQB",
        "colab": {}
      },
      "source": [
        "#split data set in proportion of 70% for training dataset and 30% for testing dataset\n",
        "train, test = raw_data_.randomSplit([0.7, 0.3], seed=12)"
      ],
      "execution_count": 0,
      "outputs": []
    },
    {
      "cell_type": "code",
      "metadata": {
        "colab_type": "code",
        "id": "apoKm9igMi12",
        "outputId": "9962ebcf-5022-4cb8-b5c4-3eb9603c097d",
        "colab": {
          "base_uri": "https://localhost:8080/",
          "height": 317
        }
      },
      "source": [
        "#import required logistic regression library from pyspark\n",
        "from pyspark.ml.classification import LogisticRegression\n",
        "#define logistic regression model\n",
        "lr = LogisticRegression(labelCol=\"Target\", featuresCol=\"Scaled_features\",maxIter=10)\n",
        "#fit model to training data\n",
        "model=lr.fit(train)\n",
        "\n",
        "#perform predictions on test and train data\n",
        "predict_train=model.transform(train)\n",
        "predict_test=model.transform(test)\n",
        "predict_test.select(\"Target\",\"prediction\").show(10)"
      ],
      "execution_count": 0,
      "outputs": [
        {
          "output_type": "stream",
          "text": [
            "+------+----------+\n",
            "|Target|prediction|\n",
            "+------+----------+\n",
            "|     2|       2.0|\n",
            "|     2|       2.0|\n",
            "|     0|       0.0|\n",
            "|     0|       0.0|\n",
            "|     2|       2.0|\n",
            "|     2|       2.0|\n",
            "|     2|       1.0|\n",
            "|     2|       2.0|\n",
            "|     2|       2.0|\n",
            "|     1|       2.0|\n",
            "+------+----------+\n",
            "only showing top 10 rows\n",
            "\n"
          ],
          "name": "stdout"
        }
      ]
    },
    {
      "cell_type": "markdown",
      "metadata": {
        "colab_type": "text",
        "id": "wZk-Z7CcP6Ng"
      },
      "source": [
        "\n",
        "****\n",
        "\n",
        "\n",
        "<div class=\"alert alert-block alert-info\">\n",
        "\n",
        "**Code**: \n",
        "    You are required to evaluate the model by using confusion matrix. Please also print out your model's Precision, Recall and F1 score.\n",
        "\n",
        "<div class=\"alert alert-block alert-warning\">\n",
        "    \n",
        "**Report**: \n",
        "    **3.2** In your report with proper section title  '3.2', Please summarize the following:     \n",
        "    <ol>\n",
        "        <li> The confusion matrix </li>\n",
        "        <li> The Precision, Recall and F1 score</li>\n",
        "    </ol>\n",
        "</div>\n",
        "</div>\n",
        "\n",
        "\n"
      ]
    },
    {
      "cell_type": "code",
      "metadata": {
        "colab_type": "code",
        "id": "yPho8CbGQCCm",
        "outputId": "ac2fcb4c-9d24-4158-d230-2e6fede786e3",
        "colab": {
          "base_uri": "https://localhost:8080/",
          "height": 111
        }
      },
      "source": [
        "#compute Confusion Matrix\n",
        "\n",
        "'''\n",
        "Code Reference: https://scikit-learn.org/stable/modules/generated/sklearn.metrics.confusion_matrix.html\n",
        "'''\n",
        "\n",
        "#import required confusion_matrix from sklearn library\n",
        "from sklearn.metrics import confusion_matrix\n",
        "\n",
        "#try-except block for error handling to prevent abnormal termination of code\n",
        "try:\n",
        "  #get the true and predicted position values and convert to list\n",
        "  true_position = predict_test.select('Target').collect()\n",
        "  predicted_position = predict_test.select('prediction').collect()\n",
        "  #compute confusion matrix\n",
        "  confusion_mat = confusion_matrix(true_position, predicted_position)\n",
        "  #display confusion matrix\n",
        "  print( 'The Confusion Matrix for the Logistic Regression Model:\\n\\n' + str(confusion_mat))\n",
        "\n",
        "except Exception as e:\n",
        "  logging.error(e)"
      ],
      "execution_count": 0,
      "outputs": [
        {
          "output_type": "stream",
          "text": [
            "The Confusion Matrix for the Logistic Regression Model:\n",
            "\n",
            "[[ 821    7  210]\n",
            " [   2 1466  307]\n",
            " [ 194  240 1637]]\n"
          ],
          "name": "stdout"
        }
      ]
    },
    {
      "cell_type": "code",
      "metadata": {
        "colab_type": "code",
        "id": "d95nOilARR8H",
        "outputId": "b64f7696-6f08-484b-966f-d34868a3d6e2",
        "colab": {
          "base_uri": "https://localhost:8080/",
          "height": 242
        }
      },
      "source": [
        "#compute Precision, Recall and F1 score\n",
        "\n",
        "'''\n",
        "Code Reference: https://scikit-learn.org/stable/modules/generated/sklearn.metrics.classification_report.html\n",
        "'''\n",
        "\n",
        "#import required classification_report from sklearn library\n",
        "from sklearn.metrics import classification_report\n",
        "\n",
        "#try-except block for error handling to prevent abnormal termination of code\n",
        "try:\n",
        "  #compute classification report\n",
        "  classification_rep = classification_report(true_position, predicted_position, target_names= ['FWD', 'DEF', 'MID'])\n",
        "  #display classification report\n",
        "  print( 'The Classification Report for the Logistic Regression Model:\\n\\n' + str(classification_rep))\n",
        "except Exception as e:\n",
        "  logging.error(e)\n"
      ],
      "execution_count": 0,
      "outputs": [
        {
          "output_type": "stream",
          "text": [
            "The Classification Report for the Logistic Regression Model:\n",
            "\n",
            "              precision    recall  f1-score   support\n",
            "\n",
            "         FWD       0.81      0.79      0.80      1038\n",
            "         DEF       0.86      0.83      0.84      1775\n",
            "         MID       0.76      0.79      0.77      2071\n",
            "\n",
            "    accuracy                           0.80      4884\n",
            "   macro avg       0.81      0.80      0.80      4884\n",
            "weighted avg       0.80      0.80      0.80      4884\n",
            "\n"
          ],
          "name": "stdout"
        }
      ]
    },
    {
      "cell_type": "markdown",
      "metadata": {
        "colab_type": "text",
        "id": "4Iy-g_68Q8OV"
      },
      "source": [
        "### 3.3 K-fold Cross-Validation\n",
        "\n",
        "We surely missed something during the modelling work -- Hyper-parameter tuning! We can use K-fold cross validation to find out the best hyper-parameter set.\n",
        "\n",
        "****\n",
        "\n",
        "\n",
        "<div class=\"alert alert-block alert-info\">\n",
        "\n",
        "**Code**: \n",
        "    Please implement K-fold cross validation for three (any three) classification models.\n",
        "\n",
        "<div class=\"alert alert-block alert-warning\">\n",
        "    \n",
        "**Report**: \n",
        "    **3.3** In your report with proper section title  '3.3', Please summarize the following:     \n",
        "    <ol>\n",
        "        <li> Your code design and running results </li>\n",
        "        <li> Your findings on hyper-parameters based on this cross-validation results</li>\n",
        "        <li> Any difficulties you had </li>\n",
        "        <li> Any other possible tasks we could do on this dataset </li>\n",
        "    </ol>\n",
        "<b>Remind: fail to list the reference will lead a penalty and possibly plagiarism</b>    \n",
        "</div>\n",
        "</div>\n",
        "\n"
      ]
    },
    {
      "cell_type": "code",
      "metadata": {
        "colab_type": "code",
        "id": "0yCvsy1-jO7x",
        "colab": {}
      },
      "source": [
        "#import required pyspark libraries\n",
        "from pyspark.ml import Pipeline\n",
        "from pyspark.ml.classification import RandomForestClassifier\n",
        "from pyspark.ml.classification import DecisionTreeClassifier\n",
        "from pyspark.ml.evaluation import MulticlassClassificationEvaluator\n",
        "from pyspark.ml.tuning import ParamGridBuilder, CrossValidator"
      ],
      "execution_count": 0,
      "outputs": []
    },
    {
      "cell_type": "code",
      "metadata": {
        "id": "ScJeOlPuEmaK",
        "colab_type": "code",
        "outputId": "e5bb3d54-1acb-41cc-f0af-c0b086aaa785",
        "colab": {
          "base_uri": "https://localhost:8080/",
          "height": 206
        }
      },
      "source": [
        "#K-fold (3-folds) cross validation for Logistic Regression Classifier\n",
        "\n",
        "'''\n",
        "Code Reference: https://benalexkeen.com/multiclass-text-classification-with-pyspark/\n",
        "'''\n",
        "\n",
        "#initialise multiclass classification evaluator based on accuracy metric\n",
        "mult_class_evaluator = MulticlassClassificationEvaluator(labelCol= 'Target', predictionCol = 'prediction', \n",
        "                                                         metricName = 'accuracy')\n",
        "\n",
        "#define pipeline\n",
        "pipeline_logistiic_regression = Pipeline(stages= [lr])\n",
        "\n",
        "#fit train data to pipeline\n",
        "pipeline_logistiic_regression_model = pipeline_logistiic_regression.fit(train)\n",
        "\n",
        "#set hyper parameter grid\n",
        "hyper_parameter_grid_logistic_regression = (ParamGridBuilder()\\\n",
        "                                            .addGrid(lr.regParam, [0.01, 0.1, 0.5])\\\n",
        "                                            .addGrid(lr.maxIter, [10,20,50])\\\n",
        "                                            .addGrid(lr.elasticNetParam, [0.0, 0.5, 0.8])\\\n",
        "                                            .addGrid(lr.aggregationDepth, [2, 5, 10])\\\n",
        "                                            .addGrid(lr.threshold, [0.1, 0.5, 0.9])\\\n",
        "                                            .build())\n",
        "\n",
        "#try-except block for error handling to prevent abnormal termination of code\n",
        "try:\n",
        "  #initialise cross validator with k = 3\n",
        "  cross_validator_pipeline_logistic_regression = CrossValidator(estimator = pipeline_logistiic_regression,\n",
        "                                                       estimatorParamMaps = hyper_parameter_grid_logistic_regression, \n",
        "                                                       evaluator = mult_class_evaluator, numFolds = 3)\n",
        "  #fit cross validator on training data\n",
        "  cross_validating_pipeline_logistic_regression_model = cross_validator_pipeline_logistic_regression.fit(train)\n",
        "\n",
        "  #get the best pipeline  regression model used from the best hyper-parameters used\n",
        "  best_model_pipeline_logistic_regression = cross_validating_pipeline_logistic_regression_model.bestModel\n",
        "\n",
        "  #get the logistic regression model from the best pipeline model\n",
        "  best_model_logistic_regression = best_model_pipeline_logistic_regression.stages[0]\n",
        "\n",
        "  #find the best hyperparameters used \n",
        "  print('The best hyper-parameters for tuning this Logistic Regression Model are:\\n\\n' + str(best_model_logistic_regression.extractParamMap()))\n",
        "\n",
        "  #use cross-validated best model for predictions\n",
        "  predictions_using_logistic_regression = best_model_pipeline_logistic_regression.transform(test)\n",
        "\n",
        "  #evaluate initial model\n",
        "  print('\\n\\nAccuracy of initial Logistic Regression Model: ' + str(mult_class_evaluator.evaluate(predict_test)))\n",
        "  #evaluate cross validated model\n",
        "  print('\\n\\nAccuracy of cross validated final Logistic Regression Model: ' + str(mult_class_evaluator.evaluate(predictions_using_logistic_regression)))\n",
        "\n",
        "except Exception as e:\n",
        "  logging.error(e)"
      ],
      "execution_count": 0,
      "outputs": [
        {
          "output_type": "stream",
          "text": [
            "The best hyper-parameters for tuning this Logistic Regression Model are:\n",
            "\n",
            "{Param(parent='LogisticRegression_72ffce54faac', name='aggregationDepth', doc='suggested depth for treeAggregate (>= 2)'): 2, Param(parent='LogisticRegression_72ffce54faac', name='elasticNetParam', doc='the ElasticNet mixing parameter, in range [0, 1]. For alpha = 0, the penalty is an L2 penalty. For alpha = 1, it is an L1 penalty'): 0.0, Param(parent='LogisticRegression_72ffce54faac', name='family', doc='The name of family which is a description of the label distribution to be used in the model. Supported options: auto, binomial, multinomial.'): 'auto', Param(parent='LogisticRegression_72ffce54faac', name='featuresCol', doc='features column name'): 'Scaled_features', Param(parent='LogisticRegression_72ffce54faac', name='fitIntercept', doc='whether to fit an intercept term'): True, Param(parent='LogisticRegression_72ffce54faac', name='labelCol', doc='label column name'): 'Target', Param(parent='LogisticRegression_72ffce54faac', name='maxIter', doc='maximum number of iterations (>= 0)'): 50, Param(parent='LogisticRegression_72ffce54faac', name='predictionCol', doc='prediction column name'): 'prediction', Param(parent='LogisticRegression_72ffce54faac', name='probabilityCol', doc='Column name for predicted class conditional probabilities. Note: Not all models output well-calibrated probability estimates! These probabilities should be treated as confidences, not precise probabilities'): 'probability', Param(parent='LogisticRegression_72ffce54faac', name='rawPredictionCol', doc='raw prediction (a.k.a. confidence) column name'): 'rawPrediction', Param(parent='LogisticRegression_72ffce54faac', name='regParam', doc='regularization parameter (>= 0)'): 0.01, Param(parent='LogisticRegression_72ffce54faac', name='standardization', doc='whether to standardize the training features before fitting the model'): True, Param(parent='LogisticRegression_72ffce54faac', name='threshold', doc='threshold in binary classification prediction, in range [0, 1]'): 0.1, Param(parent='LogisticRegression_72ffce54faac', name='tol', doc='the convergence tolerance for iterative algorithms (>= 0)'): 1e-06}\n",
            "\n",
            "\n",
            "Accuracy of initial Logistic Regression Model: 0.8034398034398035\n",
            "\n",
            "\n",
            "Accuracy of cross validated final Logistic Regression Model: 0.8662981162981163\n"
          ],
          "name": "stdout"
        }
      ]
    },
    {
      "cell_type": "code",
      "metadata": {
        "id": "T734lazvGlmn",
        "colab_type": "code",
        "outputId": "711ba06b-a824-4b51-c05d-096546f7c674",
        "colab": {
          "base_uri": "https://localhost:8080/",
          "height": 206
        }
      },
      "source": [
        "#K-fold (3-folds) cross validation for Random Forest Classifier\n",
        "\n",
        "'''\n",
        "Code Reference: \n",
        "1. https://benalexkeen.com/multiclass-text-classification-with-pyspark/\n",
        "2. https://spark.apache.org/docs/latest/ml-classification-regression.html#random-forest-classifier\n",
        "'''\n",
        "\n",
        "try:\n",
        "  #define random forest classifier\n",
        "  random_forest_classifier = RandomForestClassifier(labelCol=\"Target\", featuresCol=\"Scaled_features\")\n",
        "  #fit training dataset random tree classifier \n",
        "  initial_random_forest_model = random_forest_classifier.fit(train)\n",
        "  predict_initial_random_forest = initial_random_forest_model.transform(test)\n",
        "except Exception as e:\n",
        "  logging.error(e)\n",
        "\n",
        "hyper_parameter_grid_random_forest_classifier = (ParamGridBuilder()\\\n",
        "                                                 .addGrid(random_forest_classifier.cacheNodeIds, [True, False])\\\n",
        "                                                 .addGrid(random_forest_classifier.checkpointInterval, [1, 5, 10])\\\n",
        "                                                 .addGrid(random_forest_classifier.impurity, ['gini', 'entropy'])\\\n",
        "                                                 .addGrid(random_forest_classifier.maxDepth, [1, 5, 10])\\\n",
        "                                                 .addGrid(random_forest_classifier.subsamplingRate, [0.1, 0.5, 1.0])\\\n",
        "                                                 .addGrid(random_forest_classifier.minInstancesPerNode, [1, 5, 10])\\\n",
        "                                                 .build())\n",
        "\n",
        "#try-except block for error handling to prevent abnormal termination of code\n",
        "try:\n",
        "  #initialise cross validator with k = 3\n",
        "  cross_validator_random_forest_classifier = CrossValidator(estimator = random_forest_classifier, estimatorParamMaps = hyper_parameter_grid_random_forest_classifier, \n",
        "                                                            evaluator = mult_class_evaluator, numFolds = 3)\n",
        "  #fit cross validator on training data\n",
        "  cross_validating_random_forest_classifier = cross_validator_random_forest_classifier.fit(train)\n",
        "\n",
        "  #get the best random forest model used from the best hyper-parameters used\n",
        "  best_model_random_forest_classifier = cross_validating_random_forest_classifier.bestModel\n",
        "\n",
        "  #find the best hyperparameters used \n",
        "  print('The best hyper-parameters for tuning this Random Forest Cross Validated Model are:\\n\\n' + str(best_model_random_forest_classifier.extractParamMap()))\n",
        "\n",
        "  #use cross-validated best model for predictions\n",
        "  predictions_using_random_forest_classifier = best_model_random_forest_classifier.transform(test)\n",
        "  \n",
        "  #evaluate initial model\n",
        "  print('\\n\\nAccuracy of initial Random Forest Model: ' + str(mult_class_evaluator.evaluate(predict_initial_random_forest)))\n",
        "  #evaluate cross validated model\n",
        "  print('\\n\\nAccuracy of cross validated final Random Forest Model: ' + str(mult_class_evaluator.evaluate(predictions_using_random_forest_classifier)))\n",
        "\n",
        "except Exception as e:\n",
        "  logging.error(e)"
      ],
      "execution_count": 0,
      "outputs": [
        {
          "output_type": "stream",
          "text": [
            "The best hyper-parameters for tuning this Random Forest Cross Validated Model are:\n",
            "\n",
            "{Param(parent='RandomForestClassifier_c44848e4c340', name='cacheNodeIds', doc='If false, the algorithm will pass trees to executors to match instances with nodes. If true, the algorithm will cache node IDs for each instance. Caching can speed up training of deeper trees.'): True, Param(parent='RandomForestClassifier_c44848e4c340', name='checkpointInterval', doc='set checkpoint interval (>= 1) or disable checkpoint (-1). E.g. 10 means that the cache will get checkpointed every 10 iterations. Note: this setting will be ignored if the checkpoint directory is not set in the SparkContext'): 1, Param(parent='RandomForestClassifier_c44848e4c340', name='featureSubsetStrategy', doc='The number of features to consider for splits at each tree node. Supported options: auto, all, onethird, sqrt, log2, (0.0-1.0], [1-n].'): 'auto', Param(parent='RandomForestClassifier_c44848e4c340', name='featuresCol', doc='features column name'): 'Scaled_features', Param(parent='RandomForestClassifier_c44848e4c340', name='impurity', doc='Criterion used for information gain calculation (case-insensitive). Supported options: entropy, gini'): 'entropy', Param(parent='RandomForestClassifier_c44848e4c340', name='labelCol', doc='label column name'): 'Target', Param(parent='RandomForestClassifier_c44848e4c340', name='maxBins', doc='Max number of bins for discretizing continuous features.  Must be >=2 and >= number of categories for any categorical feature.'): 32, Param(parent='RandomForestClassifier_c44848e4c340', name='maxDepth', doc='Maximum depth of the tree. (>= 0) E.g., depth 0 means 1 leaf node; depth 1 means 1 internal node + 2 leaf nodes.'): 10, Param(parent='RandomForestClassifier_c44848e4c340', name='maxMemoryInMB', doc='Maximum memory in MB allocated to histogram aggregation.'): 256, Param(parent='RandomForestClassifier_c44848e4c340', name='minInfoGain', doc='Minimum information gain for a split to be considered at a tree node.'): 0.0, Param(parent='RandomForestClassifier_c44848e4c340', name='minInstancesPerNode', doc='Minimum number of instances each child must have after split.  If a split causes the left or right child to have fewer than minInstancesPerNode, the split will be discarded as invalid. Should be >= 1.'): 10, Param(parent='RandomForestClassifier_c44848e4c340', name='numTrees', doc='Number of trees to train (>= 1)'): 20, Param(parent='RandomForestClassifier_c44848e4c340', name='predictionCol', doc='prediction column name'): 'prediction', Param(parent='RandomForestClassifier_c44848e4c340', name='probabilityCol', doc='Column name for predicted class conditional probabilities. Note: Not all models output well-calibrated probability estimates! These probabilities should be treated as confidences, not precise probabilities'): 'probability', Param(parent='RandomForestClassifier_c44848e4c340', name='rawPredictionCol', doc='raw prediction (a.k.a. confidence) column name'): 'rawPrediction', Param(parent='RandomForestClassifier_c44848e4c340', name='seed', doc='random seed'): 2066264100418732638, Param(parent='RandomForestClassifier_c44848e4c340', name='subsamplingRate', doc='Fraction of the training data used for learning each decision tree, in range (0, 1].'): 1.0}\n",
            "\n",
            "\n",
            "Accuracy of initial Random Forest Model: 0.8263718263718264\n",
            "\n",
            "\n",
            "Accuracy of cross validated final Random Forest Model: 0.8581081081081081\n"
          ],
          "name": "stdout"
        }
      ]
    },
    {
      "cell_type": "code",
      "metadata": {
        "id": "MyzEvT33TSJ_",
        "colab_type": "code",
        "outputId": "a57120a8-bd04-4f54-9c99-77a0af23fe63",
        "colab": {
          "base_uri": "https://localhost:8080/",
          "height": 206
        }
      },
      "source": [
        "#K-fold (3-folds) cross validation for Decision Tree Classifier\n",
        "\n",
        "'''\n",
        "Code References:\n",
        "1. https://benalexkeen.com/multiclass-text-classification-with-pyspark/\n",
        "2. https://spark.apache.org/docs/latest/ml-classification-regression.html#decision-trees\n",
        "'''\n",
        "\n",
        "try:\n",
        "  #define random forest classifier\n",
        "  decision_tree_classifier = DecisionTreeClassifier(labelCol=\"Target\", featuresCol=\"Scaled_features\")\n",
        "  #fit training dataset random tree classifier \n",
        "  initial_decision_tree_model = decision_tree_classifier.fit(train)\n",
        "  predict_initial_decision_tree = initial_decision_tree_model.transform(test)\n",
        "except Exception as e:\n",
        "  logging.error(e)\n",
        "\n",
        "hyper_parameter_grid_decision_tree_classifier = (ParamGridBuilder()\\\n",
        "                                                 .addGrid(decision_tree_classifier.cacheNodeIds, [True, False])\\\n",
        "                                                 .addGrid(decision_tree_classifier.checkpointInterval, [1, 5, 10])\\\n",
        "                                                 .addGrid(decision_tree_classifier.impurity, ['gini', 'entropy'])\\\n",
        "                                                 .addGrid(decision_tree_classifier.maxBins, [20, 32, 40])\\\n",
        "                                                 .addGrid(decision_tree_classifier.minInstancesPerNode, [1, 5, 10])\\\n",
        "                                                 .build())\n",
        "\n",
        "#try-except block for error handling to prevent abnormal termination of code\n",
        "try:\n",
        "  #initialise cross validator with k = 3\n",
        "  cross_validator_decision_tree_classifier = CrossValidator(estimator = decision_tree_classifier, estimatorParamMaps = hyper_parameter_grid_decision_tree_classifier, \n",
        "                                                            evaluator = mult_class_evaluator, numFolds = 3)\n",
        "  #fit cross validator on training data\n",
        "  cross_validating_decision_tree_classifier = cross_validator_decision_tree_classifier.fit(train)\n",
        "\n",
        "  #get the best logistic regression model used from the best hyper-parameters used\n",
        "  best_model_decision_tree_classifier = cross_validating_decision_tree_classifier.bestModel\n",
        "\n",
        "  #find the best hyperparameters used \n",
        "  print('The best hyper-parameters for tuning this Decision Tree Cross Validated Model are:\\n\\n' + str(best_model_decision_tree_classifier.extractParamMap()))\n",
        "\n",
        "  #use cross-validated best model for predictions\n",
        "  predictions_using_decision_tree_classifier = best_model_decision_tree_classifier.transform(test)\n",
        "\n",
        "  #evaluate initial model\n",
        "  print('\\n\\nAccuracy of initial Decision Tree Model: ' + str(mult_class_evaluator.evaluate(predict_initial_random_forest)))\n",
        "  #evaluate cross validated model\n",
        "  print('\\n\\nAccuracy of cross validated final Decision Tree Model: ' + str(mult_class_evaluator.evaluate(predictions_using_decision_tree_classifier)))\n",
        "\n",
        "except Exception as e:\n",
        "  logging.error(e)"
      ],
      "execution_count": 0,
      "outputs": [
        {
          "output_type": "stream",
          "text": [
            "The best hyper-parameters for tuning this Decision Tree Cross Validated Model are:\n",
            "\n",
            "{Param(parent='DecisionTreeClassifier_f788b69f7554', name='cacheNodeIds', doc='If false, the algorithm will pass trees to executors to match instances with nodes. If true, the algorithm will cache node IDs for each instance. Caching can speed up training of deeper trees.'): True, Param(parent='DecisionTreeClassifier_f788b69f7554', name='checkpointInterval', doc='set checkpoint interval (>= 1) or disable checkpoint (-1). E.g. 10 means that the cache will get checkpointed every 10 iterations. Note: this setting will be ignored if the checkpoint directory is not set in the SparkContext'): 1, Param(parent='DecisionTreeClassifier_f788b69f7554', name='featuresCol', doc='features column name'): 'Scaled_features', Param(parent='DecisionTreeClassifier_f788b69f7554', name='impurity', doc='Criterion used for information gain calculation (case-insensitive). Supported options: entropy, gini'): 'gini', Param(parent='DecisionTreeClassifier_f788b69f7554', name='labelCol', doc='label column name'): 'Target', Param(parent='DecisionTreeClassifier_f788b69f7554', name='maxBins', doc='Max number of bins for discretizing continuous features.  Must be >=2 and >= number of categories for any categorical feature.'): 32, Param(parent='DecisionTreeClassifier_f788b69f7554', name='maxDepth', doc='Maximum depth of the tree. (>= 0) E.g., depth 0 means 1 leaf node; depth 1 means 1 internal node + 2 leaf nodes.'): 5, Param(parent='DecisionTreeClassifier_f788b69f7554', name='maxMemoryInMB', doc='Maximum memory in MB allocated to histogram aggregation.'): 256, Param(parent='DecisionTreeClassifier_f788b69f7554', name='minInfoGain', doc='Minimum information gain for a split to be considered at a tree node.'): 0.0, Param(parent='DecisionTreeClassifier_f788b69f7554', name='minInstancesPerNode', doc='Minimum number of instances each child must have after split.  If a split causes the left or right child to have fewer than minInstancesPerNode, the split will be discarded as invalid. Should be >= 1.'): 1, Param(parent='DecisionTreeClassifier_f788b69f7554', name='predictionCol', doc='prediction column name'): 'prediction', Param(parent='DecisionTreeClassifier_f788b69f7554', name='probabilityCol', doc='Column name for predicted class conditional probabilities. Note: Not all models output well-calibrated probability estimates! These probabilities should be treated as confidences, not precise probabilities'): 'probability', Param(parent='DecisionTreeClassifier_f788b69f7554', name='rawPredictionCol', doc='raw prediction (a.k.a. confidence) column name'): 'rawPrediction', Param(parent='DecisionTreeClassifier_f788b69f7554', name='seed', doc='random seed'): -3457030438959380212}\n",
            "\n",
            "\n",
            "Accuracy of initial Decision Tree Model: 0.8263718263718264\n",
            "\n",
            "\n",
            "Accuracy of cross validated final Decision Tree Model: 0.8097870597870598\n"
          ],
          "name": "stdout"
        }
      ]
    },
    {
      "cell_type": "code",
      "metadata": {
        "id": "FIUpa1kiLssv",
        "colab_type": "code",
        "colab": {}
      },
      "source": [
        "#Additional Task 3.3\n",
        "'''\n",
        "Code References:\n",
        "1. https://stackoverflow.com/questions/41775281/filtering-a-pyspark-dataframe-using-isin-by-exclusion\n",
        "2. https://stackoverflow.com/questions/41775281/filtering-a-pyspark-dataframe-using-isin-by-exclusion \n",
        "3. https://spark.apache.org/docs/2.2.0/ml-clustering.html#output-columns\n",
        "'''\n",
        "#Cluster the potential based on selected features \n",
        "\n",
        "#Label encoding the column \"Potential\"\n",
        "high = list(range(86,101))\n",
        "middle = list(range (71, 86))\n",
        "low = list(range(56, 71))\n",
        "very_low = list(range(45,56))\n",
        "\n",
        "\n",
        "#Create a new column titled \"Potential_Grading\", after labelling \n",
        "df_new = df.withColumn(\"Potential_Grading\", when(col(\"Potential\").isin(high), \"high\").\n",
        "                    when(col(\"Potential\").isin(middle), \"Middle\").\n",
        "                    when(col(\"Potential\").isin(low), \"Low\").\n",
        "                    when(col(\"Potential\").isin(very_low),\"Verylow\").otherwise(\"None\"))\n",
        "\n",
        "#Select the features \n",
        "df_kmeans = df_new.select(\"ID\",\"Height(CM)\",\"Weight(KG)\", \"Crossing\", \"Finishing\", \"HeadingAccuracy\", \"ShortPassing\", \n",
        "          \"Volleys\", \"Dribbling\", \"Curve\", \"FKAccuracy\", \"LongPassing\", \"BallControl\", \"Acceleration\", \n",
        "          \"SprintSpeed\", \"Agility\", \"Reactions\", \"Balance\", \"ShotPower\", \"Jumping\", \"Stamina\", \"Strength\", \n",
        "          \"LongShots\", \"Aggression\", \"Interceptions\", \"Positioning\", \"Vision\", \"Penalties\", \"Composure\", \n",
        "          \"Marking\", \"StandingTackle\", \"SlidingTackle\",\"Potential_Grading\")\n",
        "\n",
        "#Features to vectorize\n",
        "FEATURES_COL1 = [\"Height(CM)\",\"Weight(KG)\", \"Crossing\", \"Finishing\", \"HeadingAccuracy\", \"ShortPassing\", \n",
        "          \"Volleys\", \"Dribbling\", \"Curve\", \"FKAccuracy\", \"LongPassing\", \"BallControl\", \"Acceleration\", \n",
        "          \"SprintSpeed\", \"Agility\", \"Reactions\", \"Balance\", \"ShotPower\", \"Jumping\", \"Stamina\", \"Strength\", \n",
        "          \"LongShots\", \"Aggression\", \"Interceptions\", \"Positioning\", \"Vision\", \"Penalties\", \"Composure\", \n",
        "          \"Marking\", \"StandingTackle\", \"SlidingTackle\"]\n"
      ],
      "execution_count": 0,
      "outputs": []
    },
    {
      "cell_type": "code",
      "metadata": {
        "id": "FIox50RlWXVk",
        "colab_type": "code",
        "outputId": "d3376b70-c07a-4b85-9e42-d92dfdf48ea1",
        "colab": {
          "base_uri": "https://localhost:8080/",
          "height": 289
        }
      },
      "source": [
        "vecAssembler = VectorAssembler(inputCols=FEATURES_COL1, outputCol=\"features\")\n",
        "df_kmeans_1 = vecAssembler.setHandleInvalid(\"skip\").transform(df_kmeans).select('ID','features')\n",
        "df_kmeans_1.show(10)"
      ],
      "execution_count": 0,
      "outputs": [
        {
          "output_type": "stream",
          "text": [
            "+------+--------------------+\n",
            "|    ID|            features|\n",
            "+------+--------------------+\n",
            "|158023|[173.736,72.12112...|\n",
            "| 20801|[188.976,83.00733...|\n",
            "|190871|[179.832,68.0388,...|\n",
            "|193080|[195.072,76.20345...|\n",
            "|192985|[155.7528,69.8531...|\n",
            "|183277|[176.784,73.93549...|\n",
            "|177003|[176.784,66.22443...|\n",
            "|176580|[182.88,86.18248,...|\n",
            "|155862|[182.88,82.100152...|\n",
            "|200389|[188.976,87.08966...|\n",
            "+------+--------------------+\n",
            "only showing top 10 rows\n",
            "\n"
          ],
          "name": "stdout"
        }
      ]
    },
    {
      "cell_type": "code",
      "metadata": {
        "id": "IGgZPgdVWk0O",
        "colab_type": "code",
        "outputId": "282b3ad9-cf94-46bc-e99e-f5b99ca55441",
        "colab": {
          "base_uri": "https://localhost:8080/",
          "height": 340
        }
      },
      "source": [
        "from pyspark.ml.evaluation import ClusteringEvaluator\n",
        "import numpy as np\n",
        "\n",
        "cost = np.zeros(21)\n",
        "\n",
        "for k in range(2,21):\n",
        "\n",
        "  # Trains a k-means model.\n",
        "  kmeans = KMeans().setK(k).setFeaturesCol(\"features\").setSeed(1)\n",
        "  model1 = kmeans.fit(df_kmeans_1)  \n",
        "  \n",
        "  #Evaluate clustering by computing Within Set Sum of Squared Errors.\n",
        "  cost[k] = model1.computeCost(df_kmeans_1)\n",
        "  print(\"Within Set Sum of Squared Errors = \" + str(cost[k]))"
      ],
      "execution_count": 0,
      "outputs": [
        {
          "output_type": "stream",
          "text": [
            "Within Set Sum of Squared Errors = 96105064.60212262\n",
            "Within Set Sum of Squared Errors = 70977840.56023589\n",
            "Within Set Sum of Squared Errors = 56986430.25938559\n",
            "Within Set Sum of Squared Errors = 51938261.5205192\n",
            "Within Set Sum of Squared Errors = 51121245.35777758\n",
            "Within Set Sum of Squared Errors = 46108218.79285382\n",
            "Within Set Sum of Squared Errors = 44120622.41885962\n",
            "Within Set Sum of Squared Errors = 42750291.30550195\n",
            "Within Set Sum of Squared Errors = 41395828.04177585\n",
            "Within Set Sum of Squared Errors = 40186855.237596534\n",
            "Within Set Sum of Squared Errors = 40047169.02347867\n",
            "Within Set Sum of Squared Errors = 39288050.27612305\n",
            "Within Set Sum of Squared Errors = 37979258.94868156\n",
            "Within Set Sum of Squared Errors = 38700378.03173219\n",
            "Within Set Sum of Squared Errors = 36710610.0937119\n",
            "Within Set Sum of Squared Errors = 36354748.63809524\n",
            "Within Set Sum of Squared Errors = 35877052.91985504\n",
            "Within Set Sum of Squared Errors = 35417847.719818234\n",
            "Within Set Sum of Squared Errors = 35229134.95427353\n"
          ],
          "name": "stdout"
        }
      ]
    },
    {
      "cell_type": "code",
      "metadata": {
        "id": "pqtLXJhTW02F",
        "colab_type": "code",
        "outputId": "18625406-de3d-43a1-bfee-f2b407aaebf7",
        "colab": {
          "base_uri": "https://localhost:8080/",
          "height": 431
        }
      },
      "source": [
        "fig, ax = plt.subplots(1,1, figsize =(8,6))\n",
        "fig.suptitle(\"Sum of square errors versus K values\")\n",
        "ax.plot(range(2,20),cost[2:20])\n",
        "ax.set_xlabel('k')\n",
        "ax.set_ylabel('cost')\n",
        "ax.xaxis.set_major_locator(MaxNLocator(integer=True))\n",
        "plt.show()\n",
        "\n",
        "\n",
        "\n",
        "#from the elbow curve, the optimum number of clusters is at K = 8"
      ],
      "execution_count": 0,
      "outputs": [
        {
          "output_type": "display_data",
          "data": {
            "image/png": "[encoded data removed]",
            "text/plain": [
              "<Figure size 576x432 with 1 Axes>"
            ]
          },
          "metadata": {
            "tags": [],
            "needs_background": "light"
          }
        }
      ]
    },
    {
      "cell_type": "code",
      "metadata": {
        "id": "BgilFxWxXBKc",
        "colab_type": "code",
        "outputId": "0a6d7806-6a37-4db1-93a9-f1c962f79ef9",
        "colab": {
          "base_uri": "https://localhost:8080/",
          "height": 1000
        }
      },
      "source": [
        "k = 8\n",
        "\n",
        "# Trains a k-means model with the optimized k number\n",
        "kmeans1 = KMeans().setK(8).setSeed(1).setFeaturesCol(\"features\")\n",
        "model1 = kmeans1.fit(df_kmeans_1)\n",
        "centers = model1.clusterCenters()\n",
        "\n",
        "#Once the training has converged we can print out the centroids of the 8 clusters.\n",
        "print(\"Cluster Centers: \")\n",
        "for center in centers:\n",
        "    print(center)\n",
        "\n",
        "\n",
        "#Assigning the individual rows to the nearest cluster centroid using transform method, \n",
        "#which adds 'prediction' column to the dataframe. The prediction value is an integer between 0 and k.\n",
        "transformed_data = model1.transform(df_kmeans_1)\n",
        "\n",
        "\n",
        "#selecting only the specific columns from transformed_data \n",
        "transformed = transformed_data.select('ID', 'Prediction')\n",
        "rows1 = transformed.collect()\n",
        "print(rows1[:3])"
      ],
      "execution_count": 0,
      "outputs": [
        {
          "output_type": "stream",
          "text": [
            "Cluster Centers: \n",
            "[173.16573221  74.26820837  65.96571798  56.0126132   59.44987063\n",
            "  71.82729625  54.85316947  68.57988357  64.30142303  59.61513583\n",
            "  68.41364812  71.17723157  68.73673997  68.20601552  70.46248383\n",
            "  69.21377749  69.87871928  69.82956016  68.35834411  75.41073739\n",
            "  68.6335705   64.35187581  70.04269082  67.09637775  63.29754204\n",
            "  66.71216041  57.86287193  68.52199224  64.83117723  67.69663648\n",
            "  64.89294955]\n",
            "[171.23633463  72.5396426   56.43738259  40.53882279  53.7658109\n",
            "  62.66092674  38.17376331  59.51721979  47.38290545  41.67313713\n",
            "  57.53350031  61.63494051  69.56261741  69.39949906  67.51221039\n",
            "  60.22761428  68.99624296  52.98998121  66.58547276  70.44364433\n",
            "  64.05291171  44.78083907  62.72667502  59.79398873  51.79805886\n",
            "  53.08015028  44.71916093  56.53600501  59.2946149   62.27739512\n",
            "  60.56981841]\n",
            "[172.3479005   73.11284505  65.2392562   68.49380165  57.4322314\n",
            "  68.99545455  64.36570248  73.1731405   67.00247934  61.41942149\n",
            "  60.98099174  72.79628099  76.27727273  75.47727273  76.94090909\n",
            "  68.71363636  73.50371901  71.45950413  66.24297521  69.10165289\n",
            "  63.35867769  67.42975207  56.23966942  36.19710744  70.30413223\n",
            "  67.57727273  65.08512397  68.61983471  37.25578512  34.58429752\n",
            "  30.99669421]\n",
            "[187.70893511  81.96530638  14.24839506  12.01580247  14.36246914\n",
            "  27.25876543  12.39259259  13.85234568  14.69481481  14.44641975\n",
            "  25.79358025  19.93777778  38.3254321   38.70567901  40.21037037\n",
            "  58.92790123  43.09135802  22.52        57.69925926  30.45135802\n",
            "  60.58864198  12.64888889  26.36493827  17.04493827  11.25580247\n",
            "  36.9782716   20.00296296  45.11753086  15.21135802  14.13432099\n",
            "  14.0617284 ]\n",
            "[186.92660901  81.41499652  44.52372372  34.03123123  69.67087087\n",
            "  62.97117117  34.57537538  49.22162162  39.34714715  37.57417417\n",
            "  59.17537538  58.91291291  54.51531532  57.02402402  52.38078078\n",
            "  65.14354354  52.12312312  56.18978979  69.1045045   66.36696697\n",
            "  79.44684685  40.34234234  72.47327327  68.85465465  38.04264264\n",
            "  46.85885886  43.95735736  63.57117117  68.66126126  70.8036036\n",
            "  68.13573574]\n",
            "[170.97978672  69.14200976  54.70066414  54.02134725  43.14231499\n",
            "  60.04127135  47.69165085  63.46631879  52.12239089  46.13519924\n",
            "  53.67314991  62.28178368  73.43311195  72.35104364  72.21774194\n",
            "  54.59250474  73.87760911  57.56356736  57.01091082  58.99383302\n",
            "  50.95208729  50.25047438  42.97865275  31.37049336  55.68121442\n",
            "  56.39184061  52.03605313  54.61527514  36.22865275  35.03178368\n",
            "  34.11195446]\n",
            "[180.9024325   76.94945021  36.46478873  25.44691224  57.56013001\n",
            "  49.27248104  27.50704225  39.78494041  30.27410618  29.07692308\n",
            "  41.62351029  46.69989166  59.12080173  59.69501625  52.83261105\n",
            "  54.52546046  57.62676056  39.53575298  67.49729144  61.2291441\n",
            "  69.16847237  26.36836403  59.08017335  57.6191766   32.03250271\n",
            "  35.33423619  36.96749729  49.62621885  58.56500542  61.92470206\n",
            "  59.85969664]\n",
            "[178.88861957  77.13395899  41.68546158  64.61359867  62.38971808\n",
            "  54.684356    54.1249309   60.26589276  46.013267    38.4405749\n",
            "  40.6777225   61.28247651  67.27915976  68.61802101  63.60254284\n",
            "  58.98286346  61.41127695  63.85737977  66.85129906  62.50138198\n",
            "  69.5461581   56.88004422  48.52736318  22.27750138  62.60862355\n",
            "  51.60641238  61.20176893  56.68325041  27.07462687  21.86235489\n",
            "  19.74295191]\n",
            "[Row(ID=158023, Prediction=2), Row(ID=20801, Prediction=2), Row(ID=190871, Prediction=2)]\n"
          ],
          "name": "stdout"
        }
      ]
    },
    {
      "cell_type": "code",
      "metadata": {
        "id": "R5uTxNyVXLRW",
        "colab_type": "code",
        "outputId": "b459b215-20ab-4065-fd93-7d515127c717",
        "colab": {
          "base_uri": "https://localhost:8080/",
          "height": 751
        }
      },
      "source": [
        "from pyspark.sql import SQLContext\n",
        "sqlContext = SQLContext(spark)\n",
        "\n",
        "df_pred_1 = sqlContext.createDataFrame(rows1)\n",
        "df_pred_1.show()\n",
        "\n",
        "\n",
        "#Joining the two dataframes df_pred and df_kmeans_new on the 'ID' column\n",
        "df_kmeans_pred_1 = df_pred_1.join(df_kmeans, 'ID')\n",
        "\n",
        "\n",
        "#Changing the column name \"Prediction\" to \"Cluster\"\n",
        "df_kmeans_pred_1 = df_kmeans_pred_1.withColumnRenamed('Prediction', 'Clusters')\n",
        "\n",
        "df_kmeans_pred_1.show(10)"
      ],
      "execution_count": 0,
      "outputs": [
        {
          "output_type": "stream",
          "text": [
            "+------+----------+\n",
            "|    ID|Prediction|\n",
            "+------+----------+\n",
            "|158023|         2|\n",
            "| 20801|         2|\n",
            "|190871|         2|\n",
            "|193080|         3|\n",
            "|192985|         0|\n",
            "|183277|         2|\n",
            "|177003|         0|\n",
            "|176580|         2|\n",
            "|155862|         0|\n",
            "|200389|         3|\n",
            "|188545|         2|\n",
            "|182521|         0|\n",
            "|182493|         4|\n",
            "|168542|         2|\n",
            "|215914|         0|\n",
            "|211110|         2|\n",
            "|202126|         2|\n",
            "|194765|         2|\n",
            "|192448|         3|\n",
            "|192119|         3|\n",
            "+------+----------+\n",
            "only showing top 20 rows\n",
            "\n",
            "+------+--------+----------+----------+--------+---------+---------------+------------+-------+---------+-----+----------+-----------+-----------+------------+-----------+-------+---------+-------+---------+-------+-------+--------+---------+----------+-------------+-----------+------+---------+---------+-------+--------------+-------------+-----------------+\n",
            "|    ID|Clusters|Height(CM)|Weight(KG)|Crossing|Finishing|HeadingAccuracy|ShortPassing|Volleys|Dribbling|Curve|FKAccuracy|LongPassing|BallControl|Acceleration|SprintSpeed|Agility|Reactions|Balance|ShotPower|Jumping|Stamina|Strength|LongShots|Aggression|Interceptions|Positioning|Vision|Penalties|Composure|Marking|StandingTackle|SlidingTackle|Potential_Grading|\n",
            "+------+--------+----------+----------+--------+---------+---------------+------------+-------+---------+-----+----------+-----------+-----------+------------+-----------+-------+---------+-------+---------+-------+-------+--------+---------+----------+-------------+-----------+------+---------+---------+-------+--------------+-------------+-----------------+\n",
            "|158023|       2|   173.736| 72.121128|      84|       95|             70|          90|     86|       97|   93|        94|         87|         96|          91|         86|     91|       95|     95|       85|     68|     72|      59|       94|        48|           22|         94|    94|       75|       96|     33|            28|           26|             high|\n",
            "| 20801|       2|   188.976| 83.007336|      84|       94|             89|          81|     87|       88|   81|        76|         77|         94|          89|         91|     87|       96|     70|       95|     95|     88|      79|       93|        63|           29|         95|    82|       85|       95|     28|            31|           23|             high|\n",
            "|190871|       2|   179.832|   68.0388|      79|       87|             62|          84|     84|       96|   88|        87|         78|         95|          94|         90|     96|       94|     84|       80|     61|     81|      49|       82|        56|           36|         89|    87|       81|       94|     27|            24|           33|             high|\n",
            "|193080|       3|   195.072| 76.203456|      17|       13|             21|          50|     13|       18|   21|        19|         51|         42|          57|         58|     60|       90|     43|       31|     67|     43|      64|       12|        38|           30|         12|    68|       40|       68|     15|            21|           13|             high|\n",
            "|192985|       0|  155.7528| 69.853168|      93|       82|             55|          92|     82|       86|   85|        83|         91|         91|          78|         76|     79|       91|     77|       91|     63|     90|      75|       91|        76|           61|         87|    94|       79|       88|     68|            58|           51|             high|\n",
            "|183277|       2|   176.784| 73.935496|      81|       84|             61|          89|     80|       95|   83|        79|         83|         94|          94|         88|     95|       90|     94|       82|     56|     83|      66|       80|        54|           41|         87|    89|       86|       91|     34|            27|           22|             high|\n",
            "|177003|       0|   176.784| 66.224432|      86|       72|             55|          93|     76|       90|   85|        78|         88|         93|          80|         72|     93|       90|     94|       79|     68|     89|      58|       82|        62|           83|         79|    92|       82|       84|     60|            76|           73|             high|\n",
            "|176580|       2|    182.88|  86.18248|      77|       93|             77|          82|     88|       87|   86|        84|         64|         90|          86|         75|     82|       92|     83|       86|     69|     90|      83|       85|        87|           41|         92|    84|       85|       85|     62|            45|           38|             high|\n",
            "|155862|       0|    182.88| 82.100152|      66|       60|             91|          78|     66|       63|   74|        72|         77|         84|          76|         75|     78|       85|     66|       79|     93|     84|      83|       59|        88|           90|         60|    63|       75|       82|     87|            92|           91|             high|\n",
            "|200389|       3|   188.976| 87.089664|      13|       11|             15|          29|     13|       12|   13|        14|         26|         16|          43|         60|     67|       86|     49|       22|     76|     41|      78|       12|        34|           19|         11|    70|       11|       70|     27|            12|           18|             high|\n",
            "+------+--------+----------+----------+--------+---------+---------------+------------+-------+---------+-----+----------+-----------+-----------+------------+-----------+-------+---------+-------+---------+-------+-------+--------+---------+----------+-------------+-----------+------+---------+---------+-------+--------------+-------------+-----------------+\n",
            "only showing top 10 rows\n",
            "\n"
          ],
          "name": "stdout"
        }
      ]
    },
    {
      "cell_type": "code",
      "metadata": {
        "id": "_gPE8prrXPWQ",
        "colab_type": "code",
        "outputId": "d4600f0a-270e-419f-917b-9ec29bcdc1a3",
        "colab": {
          "base_uri": "https://localhost:8080/",
          "height": 459
        }
      },
      "source": [
        "count_on_clusters1 = df_kmeans_pred_1.groupBy(['Potential_Grading','Clusters']).count()\n",
        "count_on_clusters1.show()"
      ],
      "execution_count": 0,
      "outputs": [
        {
          "output_type": "stream",
          "text": [
            "+-----------------+--------+-----+\n",
            "|Potential_Grading|Clusters|count|\n",
            "+-----------------+--------+-----+\n",
            "|             high|       6|    2|\n",
            "|           Middle|       2| 1683|\n",
            "|              Low|       5| 1147|\n",
            "|          Verylow|       3|   13|\n",
            "|          Verylow|       5|    8|\n",
            "|           Middle|       1| 1352|\n",
            "|           Middle|       7|  769|\n",
            "|           Middle|       4| 1024|\n",
            "|              Low|       4|  613|\n",
            "|          Verylow|       4|    1|\n",
            "|              Low|       1| 1832|\n",
            "|             high|       5|    6|\n",
            "|           Middle|       5|  948|\n",
            "|             high|       2|   98|\n",
            "|              Low|       6| 1198|\n",
            "|              Low|       0|  913|\n",
            "|             high|       3|   25|\n",
            "|           Middle|       6|  630|\n",
            "|           Middle|       3|  843|\n",
            "|          Verylow|       7|    4|\n",
            "+-----------------+--------+-----+\n",
            "only showing top 20 rows\n",
            "\n"
          ],
          "name": "stdout"
        }
      ]
    },
    {
      "cell_type": "code",
      "metadata": {
        "id": "tIWUOlM9_jJp",
        "colab_type": "code",
        "outputId": "444df57c-3792-4b98-e782-c9e7b00acbc7",
        "colab": {
          "base_uri": "https://localhost:8080/",
          "height": 282
        }
      },
      "source": [
        "#Visualise the count on different position groups \n",
        "#high, middle, low, very_low.\n",
        "\n",
        "cl_0 = (0,0,913,0)\n",
        "cl_1 = (0,1352, 1832,0)\n",
        "cl_2 = (98,1683,0,0)\n",
        "cl_3 = (25,843, 0,13)\n",
        "cl_4 = (0,1024,613,1)\n",
        "cl_5 = (6,948, 1147,8)\n",
        "cl_6 = (2, 630, 1198,0)\n",
        "cl_7 = (0,769, 0,4)\n",
        "\n",
        "#Defining the cluster cordinates \n",
        "High = np.array([0,0,98,25,0,6,2,0])\n",
        "Middle = np.array([0,1352,1683,843,1024,948,630,769])\n",
        "Low = np.array([913,1832,0,0,613,1147,1198,0])\n",
        "Very_Low = np.array([0,0,0,13,1,8,0,4])\n",
        "ind = np.arange(len(High))  # the x locations for the groups\n",
        "width = 0.35       # the width of the bars: can also be len(x) sequence\n",
        "\n",
        "#Defining the bars\n",
        "p1 = plt.bar(ind, High, width)\n",
        "p2 = plt.bar(ind, Middle, width, bottom=High)\n",
        "p3 = plt.bar(ind, Low, width, bottom=Middle)\n",
        "p4 = plt.bar(ind, Very_Low, width, bottom=Low)\n",
        "\n",
        "\n",
        "plt.ylabel('Counts')\n",
        "plt.title('Counts on each cluster')\n",
        "plt.xticks(ind, ('cls_0', 'cls_1', 'cls_2', 'cls_3', 'cls_4', 'cls_5', 'cls_6', 'cls_7'))\n",
        "#plt.yticks(np.arange(0, 5000))\n",
        "plt.legend((p1[0], p2[0], p3[0],p4[0]), ('High','Middle','Low', 'Very_Low'))\n",
        "plt.show()"
      ],
      "execution_count": 0,
      "outputs": [
        {
          "output_type": "display_data",
          "data": {
            "image/png": "[encoded data removed]",
            "text/plain": [
              "<Figure size 432x288 with 1 Axes>"
            ]
          },
          "metadata": {
            "tags": [],
            "needs_background": "light"
          }
        }
      ]
    }
  ]
}